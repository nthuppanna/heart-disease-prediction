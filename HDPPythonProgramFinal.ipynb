{
 "cells": [
  {
   "cell_type": "markdown",
   "id": "fe63bdba",
   "metadata": {},
   "source": [
    "Load CSV File Pandas and NumPy"
   ]
  },
  {
   "cell_type": "code",
   "execution_count": 137,
   "id": "0288d1e9",
   "metadata": {},
   "outputs": [],
   "source": [
    "import numpy as numpy # linear algebra\n",
    "import pandas as pandas # data processing, CSV file I/O (e.g. pd.read_csv)\n",
    "\n",
    "# For visualizing\n",
    "import matplotlib.pyplot as plt\n",
    "import seaborn as sns\n",
    "\n",
    "# For ignoring warning\n",
    "import warnings\n",
    "warnings.simplefilter(action='ignore', category=FutureWarning)\n",
    "\n",
    "data = pd.read_csv('heart.csv')"
   ]
  },
  {
   "cell_type": "markdown",
   "id": "20d833f5",
   "metadata": {},
   "source": [
    "Dipslay Data"
   ]
  },
  {
   "cell_type": "code",
   "execution_count": 97,
   "id": "ec0062fe",
   "metadata": {},
   "outputs": [
    {
     "data": {
      "text/html": [
       "<div>\n",
       "<style scoped>\n",
       "    .dataframe tbody tr th:only-of-type {\n",
       "        vertical-align: middle;\n",
       "    }\n",
       "\n",
       "    .dataframe tbody tr th {\n",
       "        vertical-align: top;\n",
       "    }\n",
       "\n",
       "    .dataframe thead th {\n",
       "        text-align: right;\n",
       "    }\n",
       "</style>\n",
       "<table border=\"1\" class=\"dataframe\">\n",
       "  <thead>\n",
       "    <tr style=\"text-align: right;\">\n",
       "      <th></th>\n",
       "      <th>Age</th>\n",
       "      <th>Sex</th>\n",
       "      <th>ChestPainType</th>\n",
       "      <th>RestingBP</th>\n",
       "      <th>Cholesterol</th>\n",
       "      <th>FastingBS</th>\n",
       "      <th>RestingECG</th>\n",
       "      <th>MaxHR</th>\n",
       "      <th>ExerciseAngina</th>\n",
       "      <th>Oldpeak</th>\n",
       "      <th>ST_Slope</th>\n",
       "      <th>HeartDisease</th>\n",
       "    </tr>\n",
       "  </thead>\n",
       "  <tbody>\n",
       "    <tr>\n",
       "      <th>0</th>\n",
       "      <td>40</td>\n",
       "      <td>M</td>\n",
       "      <td>ATA</td>\n",
       "      <td>140</td>\n",
       "      <td>289</td>\n",
       "      <td>0</td>\n",
       "      <td>Normal</td>\n",
       "      <td>172</td>\n",
       "      <td>N</td>\n",
       "      <td>0.0</td>\n",
       "      <td>Up</td>\n",
       "      <td>0</td>\n",
       "    </tr>\n",
       "    <tr>\n",
       "      <th>1</th>\n",
       "      <td>49</td>\n",
       "      <td>F</td>\n",
       "      <td>NAP</td>\n",
       "      <td>160</td>\n",
       "      <td>180</td>\n",
       "      <td>0</td>\n",
       "      <td>Normal</td>\n",
       "      <td>156</td>\n",
       "      <td>N</td>\n",
       "      <td>1.0</td>\n",
       "      <td>Flat</td>\n",
       "      <td>1</td>\n",
       "    </tr>\n",
       "    <tr>\n",
       "      <th>2</th>\n",
       "      <td>37</td>\n",
       "      <td>M</td>\n",
       "      <td>ATA</td>\n",
       "      <td>130</td>\n",
       "      <td>283</td>\n",
       "      <td>0</td>\n",
       "      <td>ST</td>\n",
       "      <td>98</td>\n",
       "      <td>N</td>\n",
       "      <td>0.0</td>\n",
       "      <td>Up</td>\n",
       "      <td>0</td>\n",
       "    </tr>\n",
       "    <tr>\n",
       "      <th>3</th>\n",
       "      <td>48</td>\n",
       "      <td>F</td>\n",
       "      <td>ASY</td>\n",
       "      <td>138</td>\n",
       "      <td>214</td>\n",
       "      <td>0</td>\n",
       "      <td>Normal</td>\n",
       "      <td>108</td>\n",
       "      <td>Y</td>\n",
       "      <td>1.5</td>\n",
       "      <td>Flat</td>\n",
       "      <td>1</td>\n",
       "    </tr>\n",
       "    <tr>\n",
       "      <th>4</th>\n",
       "      <td>54</td>\n",
       "      <td>M</td>\n",
       "      <td>NAP</td>\n",
       "      <td>150</td>\n",
       "      <td>195</td>\n",
       "      <td>0</td>\n",
       "      <td>Normal</td>\n",
       "      <td>122</td>\n",
       "      <td>N</td>\n",
       "      <td>0.0</td>\n",
       "      <td>Up</td>\n",
       "      <td>0</td>\n",
       "    </tr>\n",
       "    <tr>\n",
       "      <th>...</th>\n",
       "      <td>...</td>\n",
       "      <td>...</td>\n",
       "      <td>...</td>\n",
       "      <td>...</td>\n",
       "      <td>...</td>\n",
       "      <td>...</td>\n",
       "      <td>...</td>\n",
       "      <td>...</td>\n",
       "      <td>...</td>\n",
       "      <td>...</td>\n",
       "      <td>...</td>\n",
       "      <td>...</td>\n",
       "    </tr>\n",
       "    <tr>\n",
       "      <th>913</th>\n",
       "      <td>45</td>\n",
       "      <td>M</td>\n",
       "      <td>TA</td>\n",
       "      <td>110</td>\n",
       "      <td>264</td>\n",
       "      <td>0</td>\n",
       "      <td>Normal</td>\n",
       "      <td>132</td>\n",
       "      <td>N</td>\n",
       "      <td>1.2</td>\n",
       "      <td>Flat</td>\n",
       "      <td>1</td>\n",
       "    </tr>\n",
       "    <tr>\n",
       "      <th>914</th>\n",
       "      <td>68</td>\n",
       "      <td>M</td>\n",
       "      <td>ASY</td>\n",
       "      <td>144</td>\n",
       "      <td>193</td>\n",
       "      <td>1</td>\n",
       "      <td>Normal</td>\n",
       "      <td>141</td>\n",
       "      <td>N</td>\n",
       "      <td>3.4</td>\n",
       "      <td>Flat</td>\n",
       "      <td>1</td>\n",
       "    </tr>\n",
       "    <tr>\n",
       "      <th>915</th>\n",
       "      <td>57</td>\n",
       "      <td>M</td>\n",
       "      <td>ASY</td>\n",
       "      <td>130</td>\n",
       "      <td>131</td>\n",
       "      <td>0</td>\n",
       "      <td>Normal</td>\n",
       "      <td>115</td>\n",
       "      <td>Y</td>\n",
       "      <td>1.2</td>\n",
       "      <td>Flat</td>\n",
       "      <td>1</td>\n",
       "    </tr>\n",
       "    <tr>\n",
       "      <th>916</th>\n",
       "      <td>57</td>\n",
       "      <td>F</td>\n",
       "      <td>ATA</td>\n",
       "      <td>130</td>\n",
       "      <td>236</td>\n",
       "      <td>0</td>\n",
       "      <td>LVH</td>\n",
       "      <td>174</td>\n",
       "      <td>N</td>\n",
       "      <td>0.0</td>\n",
       "      <td>Flat</td>\n",
       "      <td>1</td>\n",
       "    </tr>\n",
       "    <tr>\n",
       "      <th>917</th>\n",
       "      <td>38</td>\n",
       "      <td>M</td>\n",
       "      <td>NAP</td>\n",
       "      <td>138</td>\n",
       "      <td>175</td>\n",
       "      <td>0</td>\n",
       "      <td>Normal</td>\n",
       "      <td>173</td>\n",
       "      <td>N</td>\n",
       "      <td>0.0</td>\n",
       "      <td>Up</td>\n",
       "      <td>0</td>\n",
       "    </tr>\n",
       "  </tbody>\n",
       "</table>\n",
       "<p>918 rows × 12 columns</p>\n",
       "</div>"
      ],
      "text/plain": [
       "     Age Sex ChestPainType  RestingBP  Cholesterol  FastingBS RestingECG  \\\n",
       "0     40   M           ATA        140          289          0     Normal   \n",
       "1     49   F           NAP        160          180          0     Normal   \n",
       "2     37   M           ATA        130          283          0         ST   \n",
       "3     48   F           ASY        138          214          0     Normal   \n",
       "4     54   M           NAP        150          195          0     Normal   \n",
       "..   ...  ..           ...        ...          ...        ...        ...   \n",
       "913   45   M            TA        110          264          0     Normal   \n",
       "914   68   M           ASY        144          193          1     Normal   \n",
       "915   57   M           ASY        130          131          0     Normal   \n",
       "916   57   F           ATA        130          236          0        LVH   \n",
       "917   38   M           NAP        138          175          0     Normal   \n",
       "\n",
       "     MaxHR ExerciseAngina  Oldpeak ST_Slope  HeartDisease  \n",
       "0      172              N      0.0       Up             0  \n",
       "1      156              N      1.0     Flat             1  \n",
       "2       98              N      0.0       Up             0  \n",
       "3      108              Y      1.5     Flat             1  \n",
       "4      122              N      0.0       Up             0  \n",
       "..     ...            ...      ...      ...           ...  \n",
       "913    132              N      1.2     Flat             1  \n",
       "914    141              N      3.4     Flat             1  \n",
       "915    115              Y      1.2     Flat             1  \n",
       "916    174              N      0.0     Flat             1  \n",
       "917    173              N      0.0       Up             0  \n",
       "\n",
       "[918 rows x 12 columns]"
      ]
     },
     "metadata": {},
     "output_type": "display_data"
    }
   ],
   "source": [
    "display(data)"
   ]
  },
  {
   "cell_type": "markdown",
   "id": "7f373bdf",
   "metadata": {},
   "source": [
    "Cleaning Data:"
   ]
  },
  {
   "cell_type": "markdown",
   "id": "9e17644b",
   "metadata": {},
   "source": [
    "Correcting the Data Types"
   ]
  },
  {
   "cell_type": "code",
   "execution_count": 138,
   "id": "a3025215",
   "metadata": {},
   "outputs": [
    {
     "data": {
      "text/plain": [
       "array(['Normal', 'ST', 'LVH'], dtype=object)"
      ]
     },
     "execution_count": 138,
     "metadata": {},
     "output_type": "execute_result"
    }
   ],
   "source": [
    "# Renaming the columns\n",
    "renamed_columns = ['age', 'gender', 'chest pain type', 'resting blood pressure', 'cholesterol', \n",
    "                   'fasting blood sugar', 'rest ecg', 'max heart rate achieved','exercise induced angina',\n",
    "                   'st depression', 'st slope', 'Heart Disease']\n",
    "data.columns = renamed_columns\n",
    "\n",
    "# Correcting the data types\n",
    "categorical_columns = ['gender', 'chest pain type', 'fasting blood sugar', 'rest ecg',\n",
    "                       'exercise induced angina', 'st slope']\n",
    "data[categorical_columns] = data[categorical_columns].astype('object')\n",
    "data['rest ecg'].unique()"
   ]
  },
  {
   "cell_type": "markdown",
   "id": "9b5f7db7",
   "metadata": {},
   "source": [
    "Removing the unecessary columns or values"
   ]
  },
  {
   "cell_type": "code",
   "execution_count": 139,
   "id": "99b7ae31",
   "metadata": {},
   "outputs": [],
   "source": [
    "# Also renaming the values in the catergorical features\n",
    "data['gender'].replace({'F':'female','M':'male'}, inplace=True)\n",
    "\n",
    "data['chest pain type'].replace({'TA':'typical angina','ATA':'atypical angina','NAP':'non-anginal pain','ASY':'asymptomatic'}, inplace=True)\n",
    "\n",
    "data['fasting blood sugar'].replace({0:'lower than 120mg/ml',1:'greater than 120mg/ml'}, inplace=True)\n",
    "\n",
    "#data['rest ecg'].replace({0:'normal',1:'ST-T wave abnormality'}, inplace=True)\n",
    "\n",
    "data['exercise induced angina'].replace({0:'no',1:'yes'}, inplace=True)"
   ]
  },
  {
   "cell_type": "markdown",
   "id": "eb8653ab",
   "metadata": {},
   "source": [
    "Handling Missing Values"
   ]
  },
  {
   "cell_type": "code",
   "execution_count": 140,
   "id": "241817f5",
   "metadata": {},
   "outputs": [
    {
     "data": {
      "text/plain": [
       "age                        0\n",
       "gender                     0\n",
       "chest pain type            0\n",
       "resting blood pressure     0\n",
       "cholesterol                0\n",
       "fasting blood sugar        0\n",
       "rest ecg                   0\n",
       "max heart rate achieved    0\n",
       "exercise induced angina    0\n",
       "st depression              0\n",
       "st slope                   0\n",
       "Heart Disease              0\n",
       "dtype: int64"
      ]
     },
     "execution_count": 140,
     "metadata": {},
     "output_type": "execute_result"
    }
   ],
   "source": [
    "data.isnull().sum()"
   ]
  },
  {
   "cell_type": "code",
   "execution_count": 141,
   "id": "b4bf624b",
   "metadata": {},
   "outputs": [],
   "source": [
    "#there are no missing values"
   ]
  },
  {
   "cell_type": "markdown",
   "id": "0fb3d798",
   "metadata": {},
   "source": [
    "Removing Outliers"
   ]
  },
  {
   "cell_type": "code",
   "execution_count": 142,
   "id": "ed75ebc3",
   "metadata": {},
   "outputs": [
    {
     "data": {
      "image/png": "[encoded data removed]",
      "text/plain": [
       "<Figure size 864x1080 with 10 Axes>"
      ]
     },
     "metadata": {},
     "output_type": "display_data"
    }
   ],
   "source": [
    "# Let's look at the outliers and the distribution of the numeric features\n",
    "numeric_variables = [i for i in data.select_dtypes(['int','float']).columns[:-1]]\n",
    "plt.style.use('seaborn')\n",
    "fig, axis = plt.subplots(5, 2, figsize = (12, 15))\n",
    "for i, num_var in enumerate(numeric_variables):\n",
    "    \n",
    "    # Checking for the outliers using boxplot\n",
    "    sns.boxplot(y = num_var, data = data, ax = axis[i][0], color = 'skyblue')\n",
    "    \n",
    "    # Checking for the distribution using kdeplot\n",
    "    sns.kdeplot(x = num_var, data = data, ax = axis[i][1], color = 'skyblue',\n",
    "               fill = True, alpha = 0.6, linewidth = 1.5)\n",
    "    \n",
    "    axis[i][0].set_ylabel(f\"{num_var}\", fontsize = 12)\n",
    "    axis[i][0].set_xlabel(None)\n",
    "    axis[i][1].set_xlabel(None)\n",
    "    axis[i][1].set_ylabel(None)\n",
    "\n",
    "fig.suptitle('Analysing Numeric Features', fontsize = 16, y = 1)\n",
    "plt.tight_layout()"
   ]
  },
  {
   "cell_type": "code",
   "execution_count": 143,
   "id": "5da3e72d",
   "metadata": {},
   "outputs": [],
   "source": [
    "#a person may have very high cholesterol, like >500 mg/dl but can't have 0 cholestrol, a rest blood pressure of >180 mm of Hg but not 0 and a ST depression >5\n",
    "# Removing samples with extreme values\n",
    "data = data[(data['resting blood pressure']<=180)&(data['resting blood pressure']>0)]\n",
    "data = data[(data['cholesterol']<=500)&(data['cholesterol']>0)]\n",
    "data = data[data['st depression']<=5]"
   ]
  },
  {
   "cell_type": "markdown",
   "id": "411271d1",
   "metadata": {},
   "source": [
    "Class Imbalance Measure"
   ]
  },
  {
   "cell_type": "code",
   "execution_count": 144,
   "id": "e82bb7a3",
   "metadata": {},
   "outputs": [
    {
     "data": {
      "image/png": "[encoded data removed]",
      "text/plain": [
       "<Figure size 720x432 with 1 Axes>"
      ]
     },
     "metadata": {},
     "output_type": "display_data"
    }
   ],
   "source": [
    "# Checking for class imbalance\n",
    "colors = ['#90EE90', '#ffcccb']\n",
    "sns.set(palette = colors)\n",
    "\n",
    "fig = plt.figure(figsize = (10, 6))\n",
    "ax = sns.countplot(x = 'Heart Disease', data = data)\n",
    "\n",
    "for i in ax.patches:\n",
    "    ax.text(x = i.get_x() + i.get_width()/2, y = i.get_height()/2, \n",
    "            s = f\"{int(i.get_height()/len(data)*100)}%\", \n",
    "            ha = 'center', size = 50, weight = 'bold', rotation = 0, color = 'white')\n",
    "\n",
    "plt.title(\"Checking for the class imbalance\", size = 20)\n",
    "\n",
    "ax.set_xticklabels(['No Heart Disease', 'Heart Disease'], fontsize=16)\n",
    "plt.xlabel('', fontsize = 16)\n",
    "plt.ylabel('Number of People', fontsize = 16);"
   ]
  },
  {
   "cell_type": "markdown",
   "id": "968e6347",
   "metadata": {},
   "source": [
    "One Hot Encoding (Change categorical data to numerical data)"
   ]
  },
  {
   "cell_type": "code",
   "execution_count": 145,
   "id": "bee9289d",
   "metadata": {},
   "outputs": [
    {
     "data": {
      "text/html": [
       "<div>\n",
       "<style scoped>\n",
       "    .dataframe tbody tr th:only-of-type {\n",
       "        vertical-align: middle;\n",
       "    }\n",
       "\n",
       "    .dataframe tbody tr th {\n",
       "        vertical-align: top;\n",
       "    }\n",
       "\n",
       "    .dataframe thead th {\n",
       "        text-align: right;\n",
       "    }\n",
       "</style>\n",
       "<table border=\"1\" class=\"dataframe\">\n",
       "  <thead>\n",
       "    <tr style=\"text-align: right;\">\n",
       "      <th></th>\n",
       "      <th>age</th>\n",
       "      <th>resting blood pressure</th>\n",
       "      <th>cholesterol</th>\n",
       "      <th>max heart rate achieved</th>\n",
       "      <th>st depression</th>\n",
       "      <th>Heart Disease</th>\n",
       "      <th>gender_male</th>\n",
       "      <th>chest pain type_atypical angina</th>\n",
       "      <th>chest pain type_non-anginal pain</th>\n",
       "      <th>chest pain type_typical angina</th>\n",
       "      <th>fasting blood sugar_lower than 120mg/ml</th>\n",
       "      <th>rest ecg_Normal</th>\n",
       "      <th>rest ecg_ST</th>\n",
       "      <th>exercise induced angina_Y</th>\n",
       "      <th>st slope_Flat</th>\n",
       "      <th>st slope_Up</th>\n",
       "    </tr>\n",
       "  </thead>\n",
       "  <tbody>\n",
       "    <tr>\n",
       "      <th>0</th>\n",
       "      <td>40</td>\n",
       "      <td>140</td>\n",
       "      <td>289</td>\n",
       "      <td>172</td>\n",
       "      <td>0.0</td>\n",
       "      <td>0</td>\n",
       "      <td>1</td>\n",
       "      <td>1</td>\n",
       "      <td>0</td>\n",
       "      <td>0</td>\n",
       "      <td>1</td>\n",
       "      <td>1</td>\n",
       "      <td>0</td>\n",
       "      <td>0</td>\n",
       "      <td>0</td>\n",
       "      <td>1</td>\n",
       "    </tr>\n",
       "    <tr>\n",
       "      <th>1</th>\n",
       "      <td>49</td>\n",
       "      <td>160</td>\n",
       "      <td>180</td>\n",
       "      <td>156</td>\n",
       "      <td>1.0</td>\n",
       "      <td>1</td>\n",
       "      <td>0</td>\n",
       "      <td>0</td>\n",
       "      <td>1</td>\n",
       "      <td>0</td>\n",
       "      <td>1</td>\n",
       "      <td>1</td>\n",
       "      <td>0</td>\n",
       "      <td>0</td>\n",
       "      <td>1</td>\n",
       "      <td>0</td>\n",
       "    </tr>\n",
       "    <tr>\n",
       "      <th>2</th>\n",
       "      <td>37</td>\n",
       "      <td>130</td>\n",
       "      <td>283</td>\n",
       "      <td>98</td>\n",
       "      <td>0.0</td>\n",
       "      <td>0</td>\n",
       "      <td>1</td>\n",
       "      <td>1</td>\n",
       "      <td>0</td>\n",
       "      <td>0</td>\n",
       "      <td>1</td>\n",
       "      <td>0</td>\n",
       "      <td>1</td>\n",
       "      <td>0</td>\n",
       "      <td>0</td>\n",
       "      <td>1</td>\n",
       "    </tr>\n",
       "    <tr>\n",
       "      <th>3</th>\n",
       "      <td>48</td>\n",
       "      <td>138</td>\n",
       "      <td>214</td>\n",
       "      <td>108</td>\n",
       "      <td>1.5</td>\n",
       "      <td>1</td>\n",
       "      <td>0</td>\n",
       "      <td>0</td>\n",
       "      <td>0</td>\n",
       "      <td>0</td>\n",
       "      <td>1</td>\n",
       "      <td>1</td>\n",
       "      <td>0</td>\n",
       "      <td>1</td>\n",
       "      <td>1</td>\n",
       "      <td>0</td>\n",
       "    </tr>\n",
       "    <tr>\n",
       "      <th>4</th>\n",
       "      <td>54</td>\n",
       "      <td>150</td>\n",
       "      <td>195</td>\n",
       "      <td>122</td>\n",
       "      <td>0.0</td>\n",
       "      <td>0</td>\n",
       "      <td>1</td>\n",
       "      <td>0</td>\n",
       "      <td>1</td>\n",
       "      <td>0</td>\n",
       "      <td>1</td>\n",
       "      <td>1</td>\n",
       "      <td>0</td>\n",
       "      <td>0</td>\n",
       "      <td>0</td>\n",
       "      <td>1</td>\n",
       "    </tr>\n",
       "  </tbody>\n",
       "</table>\n",
       "</div>"
      ],
      "text/plain": [
       "   age  resting blood pressure  cholesterol  max heart rate achieved  \\\n",
       "0   40                     140          289                      172   \n",
       "1   49                     160          180                      156   \n",
       "2   37                     130          283                       98   \n",
       "3   48                     138          214                      108   \n",
       "4   54                     150          195                      122   \n",
       "\n",
       "   st depression  Heart Disease  gender_male  chest pain type_atypical angina  \\\n",
       "0            0.0              0            1                                1   \n",
       "1            1.0              1            0                                0   \n",
       "2            0.0              0            1                                1   \n",
       "3            1.5              1            0                                0   \n",
       "4            0.0              0            1                                0   \n",
       "\n",
       "   chest pain type_non-anginal pain  chest pain type_typical angina  \\\n",
       "0                                 0                               0   \n",
       "1                                 1                               0   \n",
       "2                                 0                               0   \n",
       "3                                 0                               0   \n",
       "4                                 1                               0   \n",
       "\n",
       "   fasting blood sugar_lower than 120mg/ml  rest ecg_Normal  rest ecg_ST  \\\n",
       "0                                        1                1            0   \n",
       "1                                        1                1            0   \n",
       "2                                        1                0            1   \n",
       "3                                        1                1            0   \n",
       "4                                        1                1            0   \n",
       "\n",
       "   exercise induced angina_Y  st slope_Flat  st slope_Up  \n",
       "0                          0              0            1  \n",
       "1                          0              1            0  \n",
       "2                          0              0            1  \n",
       "3                          1              1            0  \n",
       "4                          0              0            1  "
      ]
     },
     "execution_count": 145,
     "metadata": {},
     "output_type": "execute_result"
    }
   ],
   "source": [
    "# One hot encoding - Converting categorical features into encoded form of 0 and 1\n",
    "data_encoded = pd.get_dummies(data, drop_first = True)\n",
    "data_encoded.head()"
   ]
  },
  {
   "cell_type": "markdown",
   "id": "1745d9ba",
   "metadata": {},
   "source": [
    "Train and Test Split"
   ]
  },
  {
   "cell_type": "code",
   "execution_count": 146,
   "id": "a50b6e6c",
   "metadata": {},
   "outputs": [],
   "source": [
    "from sklearn.model_selection import train_test_split\n",
    "\n",
    "X = data_encoded.copy()\n",
    "y = X.pop('Heart Disease')\n",
    "\n",
    "# Train and Test split\n",
    "X_train, X_test, y_train, y_test = train_test_split(X, y,  train_size=0.8, stratify = y) # 80% training 20% testing data"
   ]
  },
  {
   "cell_type": "code",
   "execution_count": 147,
   "id": "87cfd42b",
   "metadata": {},
   "outputs": [
    {
     "name": "stdout",
     "output_type": "stream",
     "text": [
      "Class proportion in train set: \n",
      " 0    0.527211\n",
      "1    0.472789\n",
      "Name: Heart Disease, dtype: float64\n",
      "--------------------------------------------------\n",
      "Class proportion in test set: \n",
      " 0    0.530612\n",
      "1    0.469388\n",
      "Name: Heart Disease, dtype: float64\n"
     ]
    }
   ],
   "source": [
    "# Checking for the class proprtion in train and test set\n",
    "print('Class proportion in train set: \\n',y_train.value_counts()/y_train.value_counts().sum())\n",
    "print('-'*50)\n",
    "print('Class proportion in test set: \\n',y_test.value_counts()/y_test.value_counts().sum())"
   ]
  },
  {
   "cell_type": "markdown",
   "id": "927c9967",
   "metadata": {},
   "source": [
    "Scaling Data"
   ]
  },
  {
   "cell_type": "code",
   "execution_count": 148,
   "id": "305fe5ca",
   "metadata": {},
   "outputs": [],
   "source": [
    "from sklearn.preprocessing import StandardScaler\n",
    "\n",
    "# Scaling the numeric features\n",
    "scalar = StandardScaler()\n",
    "\n",
    "X_train_scaled = pd.DataFrame(scalar.fit_transform(X_train[numeric_variables]), columns = numeric_variables)\n",
    "X_test_scaled = pd.DataFrame(scalar.transform(X_test[numeric_variables]), columns = numeric_variables)\n",
    "\n",
    "X_train_final = pd.concat([X_train_scaled.reset_index(drop=True), X_train.iloc[:,5:].reset_index(drop=True)], axis=1)\n",
    "X_test_final = pd.concat([X_test_scaled.reset_index(drop=True), X_test.iloc[:,5:].reset_index(drop=True)], axis=1)"
   ]
  },
  {
   "cell_type": "code",
   "execution_count": 149,
   "id": "ea9dd31e",
   "metadata": {},
   "outputs": [
    {
     "data": {
      "image/png": "[encoded data removed]",
      "text/plain": [
       "<Figure size 1080x504 with 10 Axes>"
      ]
     },
     "metadata": {},
     "output_type": "display_data"
    }
   ],
   "source": [
    "# Checking the distribution of the numeric data after scaling\n",
    "colors = ['#ADD8E6']\n",
    "sns.set(palette = colors)\n",
    "fig, ax = plt.subplots(nrows = 2, ncols = 5, figsize = (15, 7), constrained_layout = True)\n",
    "\n",
    "for axis, num_var in zip(ax.ravel(), numeric_variables): \n",
    "    sns.kdeplot(data = X_train_final, x = num_var, ax = axis,\n",
    "                fill = True, multiple = 'stack', alpha = 0.6, linewidth = 1.5)\n",
    "    axis.set_ylabel(None)\n",
    "    axis.set_xlabel(None)\n",
    "\n",
    "for i, num_var in zip(range(0, 5), numeric_variables): \n",
    "    sns.histplot(data = X_train_final, x = num_var, ax = ax[1][i])\n",
    "    ax[1][i].set_ylabel(None)\n",
    "    ax[1][i].set_xlabel(f'{num_var}', fontsize = 14)\n",
    "    \n",
    "fig.text(0.5, 1.05, 'Distribution of the numeric data after scaling', ha = 'center', fontsize = 20);"
   ]
  },
  {
   "cell_type": "markdown",
   "id": "cb96b9ca",
   "metadata": {},
   "source": [
    "Machine Learning:"
   ]
  },
  {
   "cell_type": "markdown",
   "id": "2e9b0a99",
   "metadata": {},
   "source": [
    "Decision Tree Without Scaled Data"
   ]
  },
  {
   "cell_type": "code",
   "execution_count": 110,
   "id": "6b0eb6fd",
   "metadata": {},
   "outputs": [
    {
     "data": {
      "text/plain": [
       "GridSearchCV(cv=5, estimator=DecisionTreeClassifier(),\n",
       "             param_grid={'max_depth': [3, 5, 7],\n",
       "                         'min_samples_leaf': [5, 10, 15]})"
      ]
     },
     "execution_count": 110,
     "metadata": {},
     "output_type": "execute_result"
    }
   ],
   "source": [
    "from sklearn.tree import DecisionTreeClassifier\n",
    "from sklearn.model_selection import GridSearchCV\n",
    "\n",
    "tree = DecisionTreeClassifier()\n",
    "parameters = {'max_depth':[3,5,7], 'min_samples_leaf':[5,10,15]}\n",
    "\n",
    "tree_clf = GridSearchCV(tree, parameters, cv=5)\n",
    "tree_clf.fit(X_train, y_train)"
   ]
  },
  {
   "cell_type": "code",
   "execution_count": 111,
   "id": "9b0541b7",
   "metadata": {
    "scrolled": true
   },
   "outputs": [
    {
     "name": "stdout",
     "output_type": "stream",
     "text": [
      "Train AUC-ROC score is 0.9145393362729172\n",
      "Test AUC-ROC score is 0.910442214790041\n"
     ]
    }
   ],
   "source": [
    "from sklearn.metrics import roc_auc_score\n",
    "\n",
    "print('Train AUC-ROC score is', roc_auc_score(y_train, tree_clf.predict_proba(X_train)[:, 1]))\n",
    "print('Test AUC-ROC score is', roc_auc_score(y_test, tree_clf.predict_proba(X_test)[:, 1]))"
   ]
  },
  {
   "cell_type": "markdown",
   "id": "59abf66b",
   "metadata": {},
   "source": [
    "Random Forest Without Scaled Data"
   ]
  },
  {
   "cell_type": "code",
   "execution_count": 112,
   "id": "f35fd1d4",
   "metadata": {},
   "outputs": [
    {
     "data": {
      "text/plain": [
       "GridSearchCV(cv=5, estimator=RandomForestClassifier(),\n",
       "             param_grid={'max_depth': [3, 5, 7],\n",
       "                         'min_samples_leaf': [5, 10, 15]})"
      ]
     },
     "execution_count": 112,
     "metadata": {},
     "output_type": "execute_result"
    }
   ],
   "source": [
    "from sklearn.ensemble import RandomForestClassifier\n",
    "\n",
    "forest = RandomForestClassifier()\n",
    "parameters = {'max_depth':[3,5,7], 'min_samples_leaf':[5,10,15]}\n",
    "\n",
    "forest_clf = GridSearchCV(forest, parameters, cv=5)\n",
    "forest_clf.fit(X_train, y_train)"
   ]
  },
  {
   "cell_type": "code",
   "execution_count": 113,
   "id": "781ca3e8",
   "metadata": {},
   "outputs": [
    {
     "name": "stdout",
     "output_type": "stream",
     "text": [
      "Train AUC-ROC score is 0.9548387096774194\n",
      "Test AUC-ROC score is 0.9451876625789668\n"
     ]
    }
   ],
   "source": [
    "print('Train AUC-ROC score is', roc_auc_score(y_train, forest_clf.predict_proba(X_train)[:, 1]))\n",
    "print('Test AUC-ROC score is', roc_auc_score(y_test, forest_clf.predict_proba(X_test)[:, 1]))"
   ]
  },
  {
   "cell_type": "markdown",
   "id": "c6ae202d",
   "metadata": {},
   "source": [
    "Support Vector Machine (SVM) Without Scaled Data"
   ]
  },
  {
   "cell_type": "code",
   "execution_count": 114,
   "id": "a8af520e",
   "metadata": {},
   "outputs": [
    {
     "data": {
      "text/plain": [
       "GridSearchCV(cv=5, estimator=SVC(probability=True),\n",
       "             param_grid={'C': [0.01, 0.1, 0.5, 1, 1.5, 2, 5],\n",
       "                         'kernel': ['rbf', 'linear']})"
      ]
     },
     "execution_count": 114,
     "metadata": {},
     "output_type": "execute_result"
    }
   ],
   "source": [
    "from sklearn.svm import SVC\n",
    "\n",
    "svm_params = {'C':[0.01,0.1,0.5,1,1.5,2,5], 'kernel':['rbf', 'linear']}\n",
    "svm = SVC(probability=True)\n",
    "\n",
    "svm_clf = GridSearchCV(svm, svm_params, cv=5)\n",
    "svm_clf.fit(X_train, y_train)"
   ]
  },
  {
   "cell_type": "code",
   "execution_count": 115,
   "id": "a345ee08",
   "metadata": {},
   "outputs": [
    {
     "name": "stdout",
     "output_type": "stream",
     "text": [
      "Train AUC-ROC score is 0.9250986307728011\n",
      "Test AUC-ROC score is 0.9424005945745076\n"
     ]
    }
   ],
   "source": [
    "print('Train AUC-ROC score is', roc_auc_score(y_train, svm_clf.predict_proba(X_train)[:, 1]))\n",
    "print('Test AUC-ROC score is', roc_auc_score(y_test, svm_clf.predict_proba(X_test)[:, 1]))"
   ]
  },
  {
   "cell_type": "markdown",
   "id": "be9c37ac",
   "metadata": {},
   "source": [
    "Naive Bayes Without Scaled Data"
   ]
  },
  {
   "cell_type": "code",
   "execution_count": 1,
   "id": "ad6e3d21",
   "metadata": {},
   "outputs": [
    {
     "ename": "NameError",
     "evalue": "name 'X_train' is not defined",
     "output_type": "error",
     "traceback": [
      "\u001b[1;31m---------------------------------------------------------------------------\u001b[0m",
      "\u001b[1;31mNameError\u001b[0m                                 Traceback (most recent call last)",
      "\u001b[1;32m~\\AppData\\Local\\Temp/ipykernel_12432/3034281460.py\u001b[0m in \u001b[0;36m<module>\u001b[1;34m\u001b[0m\n\u001b[0;32m      1\u001b[0m \u001b[1;32mfrom\u001b[0m \u001b[0msklearn\u001b[0m\u001b[1;33m.\u001b[0m\u001b[0mnaive_bayes\u001b[0m \u001b[1;32mimport\u001b[0m \u001b[0mGaussianNB\u001b[0m\u001b[1;33m\u001b[0m\u001b[1;33m\u001b[0m\u001b[0m\n\u001b[0;32m      2\u001b[0m \u001b[0mnb_classifier\u001b[0m \u001b[1;33m=\u001b[0m \u001b[0mGaussianNB\u001b[0m\u001b[1;33m(\u001b[0m\u001b[1;33m)\u001b[0m\u001b[1;33m\u001b[0m\u001b[1;33m\u001b[0m\u001b[0m\n\u001b[1;32m----> 3\u001b[1;33m \u001b[0mnb_classifier\u001b[0m\u001b[1;33m.\u001b[0m\u001b[0mfit\u001b[0m\u001b[1;33m(\u001b[0m\u001b[0mX_train\u001b[0m\u001b[1;33m,\u001b[0m \u001b[0my_train\u001b[0m\u001b[1;33m)\u001b[0m\u001b[1;33m\u001b[0m\u001b[1;33m\u001b[0m\u001b[0m\n\u001b[0m",
      "\u001b[1;31mNameError\u001b[0m: name 'X_train' is not defined"
     ]
    }
   ],
   "source": [
    "from sklearn.naive_bayes import GaussianNB\n",
    "nb_classifier = GaussianNB()\n",
    "nb_classifier.fit(X_train, y_train)"
   ]
  },
  {
   "cell_type": "code",
   "execution_count": 117,
   "id": "649ee247",
   "metadata": {},
   "outputs": [
    {
     "name": "stdout",
     "output_type": "stream",
     "text": [
      "Train AUC-ROC score is 0.9220468786261313\n",
      "Test AUC-ROC score is 0.9433296172426607\n"
     ]
    }
   ],
   "source": [
    "print('Train AUC-ROC score is', roc_auc_score(y_train, nb_classifier.predict_proba(X_train)[:, 1]))\n",
    "print('Test AUC-ROC score is', roc_auc_score(y_test, nb_classifier.predict_proba(X_test)[:, 1]))"
   ]
  },
  {
   "cell_type": "markdown",
   "id": "87ebcfad",
   "metadata": {},
   "source": [
    "K-Nearest Neighbors Without Scaled Data"
   ]
  },
  {
   "cell_type": "code",
   "execution_count": 118,
   "id": "1618ac7d",
   "metadata": {},
   "outputs": [
    {
     "data": {
      "text/plain": [
       "KNeighborsClassifier(n_neighbors=3)"
      ]
     },
     "execution_count": 118,
     "metadata": {},
     "output_type": "execute_result"
    }
   ],
   "source": [
    " from sklearn.neighbors import KNeighborsClassifier\n",
    ">>> neigh = KNeighborsClassifier(n_neighbors=3)\n",
    ">>> neigh.fit(X_train, y_train)"
   ]
  },
  {
   "cell_type": "code",
   "execution_count": 119,
   "id": "17dad3de",
   "metadata": {
    "scrolled": true
   },
   "outputs": [
    {
     "name": "stdout",
     "output_type": "stream",
     "text": [
      "Train AUC-ROC score is 0.884694824785333\n",
      "Test AUC-ROC score is 0.6526384243775548\n"
     ]
    }
   ],
   "source": [
    "print('Train AUC-ROC score is', roc_auc_score(y_train, neigh.predict_proba(X_train)[:, 1]))\n",
    "print('Test AUC-ROC score is', roc_auc_score(y_test, neigh.predict_proba(X_test)[:, 1]))"
   ]
  },
  {
   "cell_type": "markdown",
   "id": "041630d3",
   "metadata": {},
   "source": [
    "Models Without Scaled Data Table"
   ]
  },
  {
   "cell_type": "code",
   "execution_count": 120,
   "id": "74cb5040",
   "metadata": {},
   "outputs": [
    {
     "data": {
      "text/html": [
       "<div>\n",
       "<style scoped>\n",
       "    .dataframe tbody tr th:only-of-type {\n",
       "        vertical-align: middle;\n",
       "    }\n",
       "\n",
       "    .dataframe tbody tr th {\n",
       "        vertical-align: top;\n",
       "    }\n",
       "\n",
       "    .dataframe thead th {\n",
       "        text-align: right;\n",
       "    }\n",
       "</style>\n",
       "<table border=\"1\" class=\"dataframe\">\n",
       "  <thead>\n",
       "    <tr style=\"text-align: right;\">\n",
       "      <th></th>\n",
       "      <th>Model Without Scaled Data</th>\n",
       "      <th>AUC-ROC</th>\n",
       "      <th>Accuracy</th>\n",
       "      <th>Recall</th>\n",
       "      <th>Precision</th>\n",
       "    </tr>\n",
       "  </thead>\n",
       "  <tbody>\n",
       "    <tr>\n",
       "      <th>0</th>\n",
       "      <td>GridSearchCV(cv=5, estimator=DecisionTreeClass...</td>\n",
       "      <td>0.910442</td>\n",
       "      <td>0.843537</td>\n",
       "      <td>0.855072</td>\n",
       "      <td>0.819444</td>\n",
       "    </tr>\n",
       "    <tr>\n",
       "      <th>1</th>\n",
       "      <td>GridSearchCV(cv=5, estimator=RandomForestClass...</td>\n",
       "      <td>0.945188</td>\n",
       "      <td>0.863946</td>\n",
       "      <td>0.898551</td>\n",
       "      <td>0.826667</td>\n",
       "    </tr>\n",
       "    <tr>\n",
       "      <th>2</th>\n",
       "      <td>GridSearchCV(cv=5, estimator=SVC(probability=T...</td>\n",
       "      <td>0.942401</td>\n",
       "      <td>0.863946</td>\n",
       "      <td>0.913043</td>\n",
       "      <td>0.818182</td>\n",
       "    </tr>\n",
       "    <tr>\n",
       "      <th>3</th>\n",
       "      <td>GaussianNB()</td>\n",
       "      <td>0.943330</td>\n",
       "      <td>0.870748</td>\n",
       "      <td>0.927536</td>\n",
       "      <td>0.820513</td>\n",
       "    </tr>\n",
       "    <tr>\n",
       "      <th>4</th>\n",
       "      <td>KNeighborsClassifier(n_neighbors=3)</td>\n",
       "      <td>0.652638</td>\n",
       "      <td>0.632653</td>\n",
       "      <td>0.623188</td>\n",
       "      <td>0.605634</td>\n",
       "    </tr>\n",
       "  </tbody>\n",
       "</table>\n",
       "</div>"
      ],
      "text/plain": [
       "                           Model Without Scaled Data   AUC-ROC  Accuracy  \\\n",
       "0  GridSearchCV(cv=5, estimator=DecisionTreeClass...  0.910442  0.843537   \n",
       "1  GridSearchCV(cv=5, estimator=RandomForestClass...  0.945188  0.863946   \n",
       "2  GridSearchCV(cv=5, estimator=SVC(probability=T...  0.942401  0.863946   \n",
       "3                                       GaussianNB()  0.943330  0.870748   \n",
       "4                KNeighborsClassifier(n_neighbors=3)  0.652638  0.632653   \n",
       "\n",
       "     Recall  Precision  \n",
       "0  0.855072   0.819444  \n",
       "1  0.898551   0.826667  \n",
       "2  0.913043   0.818182  \n",
       "3  0.927536   0.820513  \n",
       "4  0.623188   0.605634  "
      ]
     },
     "execution_count": 120,
     "metadata": {},
     "output_type": "execute_result"
    }
   ],
   "source": [
    "from sklearn.metrics import precision_score, recall_score\n",
    "\n",
    "recall_score(y_test, lr.predict(X_test))\n",
    "data_performance = pd.DataFrame(columns=['Model Without Scaled Data', 'AUC-ROC', 'Accuracy', 'Recall', 'Precision'])\n",
    "\n",
    "models = [tree_clf, forest_clf, svm_clf, nb_classifier, neigh]\n",
    "\n",
    "for model in models:\n",
    "    auc = roc_auc_score(y_test, model.predict_proba(X_test)[:, 1])\n",
    "    accuracy = model.score(X_test, y_test)\n",
    "    recall = recall_score(y_test, model.predict(X_test))\n",
    "    precision = precision_score(y_test, model.predict(X_test))\n",
    "    \n",
    "    data_performance = data_performance.append({'Model Without Scaled Data':model, 'AUC-ROC':auc, 'Accuracy':accuracy,\n",
    "                                            'Recall':recall, 'Precision':precision}, ignore_index=True)\n",
    "    \n",
    "data_performance"
   ]
  },
  {
   "cell_type": "markdown",
   "id": "54fa7992",
   "metadata": {},
   "source": [
    "Logistic Regression With Scaled Data"
   ]
  },
  {
   "cell_type": "code",
   "execution_count": 121,
   "id": "edde81ce",
   "metadata": {},
   "outputs": [
    {
     "data": {
      "text/plain": [
       "LogisticRegressionCV(cv=5, random_state=99)"
      ]
     },
     "execution_count": 121,
     "metadata": {},
     "output_type": "execute_result"
    }
   ],
   "source": [
    "from sklearn.linear_model import LogisticRegressionCV\n",
    "\n",
    "lr = LogisticRegressionCV(cv=5, random_state=99)\n",
    "lr.fit(X_train_final, y_train)"
   ]
  },
  {
   "cell_type": "code",
   "execution_count": 122,
   "id": "6613b862",
   "metadata": {},
   "outputs": [
    {
     "name": "stdout",
     "output_type": "stream",
     "text": [
      "Train AUC-ROC score is 0.9325713622650267\n",
      "Test AUC-ROC score is 0.9373838721664809\n"
     ]
    }
   ],
   "source": [
    "print('Train AUC-ROC score is', roc_auc_score(y_train, lr.predict_proba(X_train_final)[:, 1]))\n",
    "print('Test AUC-ROC score is', roc_auc_score(y_test, lr.predict_proba(X_test_final)[:, 1]))"
   ]
  },
  {
   "cell_type": "markdown",
   "id": "75a475d1",
   "metadata": {},
   "source": [
    "Decision Tree With Scaled Data"
   ]
  },
  {
   "cell_type": "code",
   "execution_count": 123,
   "id": "9cd972f2",
   "metadata": {},
   "outputs": [
    {
     "data": {
      "text/plain": [
       "GridSearchCV(cv=5, estimator=DecisionTreeClassifier(),\n",
       "             param_grid={'max_depth': [3, 5, 7],\n",
       "                         'min_samples_leaf': [5, 10, 15]})"
      ]
     },
     "execution_count": 123,
     "metadata": {},
     "output_type": "execute_result"
    }
   ],
   "source": [
    "from sklearn.tree import DecisionTreeClassifier\n",
    "from sklearn.model_selection import GridSearchCV\n",
    "\n",
    "tree = DecisionTreeClassifier()\n",
    "parameters = {'max_depth':[3,5,7], 'min_samples_leaf':[5,10,15]}\n",
    "\n",
    "tree_clf = GridSearchCV(tree, parameters, cv=5)\n",
    "tree_clf.fit(X_train_final, y_train)"
   ]
  },
  {
   "cell_type": "code",
   "execution_count": 124,
   "id": "e1f1db07",
   "metadata": {},
   "outputs": [
    {
     "name": "stdout",
     "output_type": "stream",
     "text": [
      "Train AUC-ROC score is 0.9145393362729172\n",
      "Test AUC-ROC score is 0.910442214790041\n"
     ]
    }
   ],
   "source": [
    "print('Train AUC-ROC score is', roc_auc_score(y_train, tree_clf.predict_proba(X_train_final)[:, 1]))\n",
    "print('Test AUC-ROC score is', roc_auc_score(y_test, tree_clf.predict_proba(X_test_final)[:, 1]))"
   ]
  },
  {
   "cell_type": "markdown",
   "id": "865c9c7e",
   "metadata": {},
   "source": [
    "Random Forest With Scaled Data"
   ]
  },
  {
   "cell_type": "code",
   "execution_count": 125,
   "id": "2570bb77",
   "metadata": {},
   "outputs": [
    {
     "data": {
      "text/plain": [
       "GridSearchCV(cv=5, estimator=RandomForestClassifier(),\n",
       "             param_grid={'max_depth': [3, 5, 7],\n",
       "                         'min_samples_leaf': [5, 10, 15]})"
      ]
     },
     "execution_count": 125,
     "metadata": {},
     "output_type": "execute_result"
    }
   ],
   "source": [
    "from sklearn.ensemble import RandomForestClassifier\n",
    "\n",
    "forest = RandomForestClassifier()\n",
    "parameters = {'max_depth':[3,5,7], 'min_samples_leaf':[5,10,15]}\n",
    "\n",
    "forest_clf = GridSearchCV(forest, parameters, cv=5)\n",
    "forest_clf.fit(X_train_final, y_train)"
   ]
  },
  {
   "cell_type": "code",
   "execution_count": 126,
   "id": "f28d6e73",
   "metadata": {},
   "outputs": [
    {
     "name": "stdout",
     "output_type": "stream",
     "text": [
      "Train AUC-ROC score is 0.9543861684845673\n",
      "Test AUC-ROC score is 0.9427722036417688\n"
     ]
    }
   ],
   "source": [
    "print('Train AUC-ROC score is', roc_auc_score(y_train, forest_clf.predict_proba(X_train_final)[:, 1]))\n",
    "print('Test AUC-ROC score is', roc_auc_score(y_test, forest_clf.predict_proba(X_test_final)[:, 1]))"
   ]
  },
  {
   "cell_type": "markdown",
   "id": "42c1fab5",
   "metadata": {},
   "source": [
    "Support Vector Machine (SVM) With Scaled Data"
   ]
  },
  {
   "cell_type": "code",
   "execution_count": 216,
   "id": "587cb02f",
   "metadata": {},
   "outputs": [
    {
     "data": {
      "text/plain": [
       "GridSearchCV(cv=5, estimator=SVC(probability=True),\n",
       "             param_grid={'C': [0.01, 0.1, 0.5, 1, 1.5, 2, 5],\n",
       "                         'kernel': ['rbf', 'linear']})"
      ]
     },
     "execution_count": 216,
     "metadata": {},
     "output_type": "execute_result"
    }
   ],
   "source": [
    "from sklearn.svm import SVC\n",
    "\n",
    "svm_params = {'C':[0.01,0.1,0.5,1,1.5,2,5], 'kernel':['rbf', 'linear']}\n",
    "svm = SVC(probability=True)\n",
    "\n",
    "svm_clf = GridSearchCV(svm, svm_params, cv=5)\n",
    "svm_clf.fit(X_train_final, y_train)"
   ]
  },
  {
   "cell_type": "code",
   "execution_count": 217,
   "id": "dc4c1cba",
   "metadata": {},
   "outputs": [
    {
     "name": "stdout",
     "output_type": "stream",
     "text": [
      "Train AUC-ROC score is 0.9315850545370156\n",
      "Test AUC-ROC score is 0.9191750278706801\n"
     ]
    }
   ],
   "source": [
    "print('Train AUC-ROC score is', roc_auc_score(y_train, svm_clf.predict_proba(X_train_final)[:, 1]))\n",
    "print('Test AUC-ROC score is', roc_auc_score(y_test, svm_clf.predict_proba(X_test_final)[:, 1]))"
   ]
  },
  {
   "cell_type": "markdown",
   "id": "e3a7bb22",
   "metadata": {},
   "source": [
    "Naive Bayes With Scaled Data"
   ]
  },
  {
   "cell_type": "code",
   "execution_count": 129,
   "id": "2d5e5206",
   "metadata": {},
   "outputs": [
    {
     "data": {
      "text/plain": [
       "GaussianNB()"
      ]
     },
     "execution_count": 129,
     "metadata": {},
     "output_type": "execute_result"
    }
   ],
   "source": [
    "from sklearn.naive_bayes import GaussianNB\n",
    "nb_classifier = GaussianNB()\n",
    "nb_classifier.fit(X_train_final, y_train)"
   ]
  },
  {
   "cell_type": "code",
   "execution_count": 130,
   "id": "0b92b7ac",
   "metadata": {},
   "outputs": [
    {
     "name": "stdout",
     "output_type": "stream",
     "text": [
      "Train AUC-ROC score is 0.9220468786261313\n",
      "Test AUC-ROC score is 0.9433296172426607\n"
     ]
    }
   ],
   "source": [
    "print('Train AUC-ROC score is', roc_auc_score(y_train, nb_classifier.predict_proba(X_train_final)[:, 1]))\n",
    "print('Test AUC-ROC score is', roc_auc_score(y_test, nb_classifier.predict_proba(X_test_final)[:, 1]))"
   ]
  },
  {
   "cell_type": "markdown",
   "id": "225e19eb",
   "metadata": {},
   "source": [
    "K-Nearest Neighbors With Scaled Data"
   ]
  },
  {
   "cell_type": "code",
   "execution_count": 131,
   "id": "c51f6a9b",
   "metadata": {},
   "outputs": [
    {
     "data": {
      "text/plain": [
       "KNeighborsClassifier(n_neighbors=3)"
      ]
     },
     "execution_count": 131,
     "metadata": {},
     "output_type": "execute_result"
    }
   ],
   "source": [
    " from sklearn.neighbors import KNeighborsClassifier\n",
    ">>> neigh = KNeighborsClassifier(n_neighbors=3)\n",
    ">>> neigh.fit(X_train_final, y_train)"
   ]
  },
  {
   "cell_type": "code",
   "execution_count": 132,
   "id": "ac662d34",
   "metadata": {},
   "outputs": [
    {
     "name": "stdout",
     "output_type": "stream",
     "text": [
      "Train AUC-ROC score is 0.9661522394987236\n",
      "Test AUC-ROC score is 0.9162021553325901\n"
     ]
    }
   ],
   "source": [
    "print('Train AUC-ROC score is', roc_auc_score(y_train, neigh.predict_proba(X_train_final)[:, 1]))\n",
    "print('Test AUC-ROC score is', roc_auc_score(y_test, neigh.predict_proba(X_test_final)[:, 1]))"
   ]
  },
  {
   "cell_type": "markdown",
   "id": "ae5e6337",
   "metadata": {},
   "source": [
    "Models With Scaled Data Table"
   ]
  },
  {
   "cell_type": "code",
   "execution_count": 134,
   "id": "dd7bf0b1",
   "metadata": {},
   "outputs": [
    {
     "data": {
      "text/html": [
       "<div>\n",
       "<style scoped>\n",
       "    .dataframe tbody tr th:only-of-type {\n",
       "        vertical-align: middle;\n",
       "    }\n",
       "\n",
       "    .dataframe tbody tr th {\n",
       "        vertical-align: top;\n",
       "    }\n",
       "\n",
       "    .dataframe thead th {\n",
       "        text-align: right;\n",
       "    }\n",
       "</style>\n",
       "<table border=\"1\" class=\"dataframe\">\n",
       "  <thead>\n",
       "    <tr style=\"text-align: right;\">\n",
       "      <th></th>\n",
       "      <th>Model With Scaled Data</th>\n",
       "      <th>AUC-ROC</th>\n",
       "      <th>Accuracy</th>\n",
       "      <th>Recall</th>\n",
       "      <th>Precision</th>\n",
       "    </tr>\n",
       "  </thead>\n",
       "  <tbody>\n",
       "    <tr>\n",
       "      <th>0</th>\n",
       "      <td>LogisticRegressionCV(cv=5, random_state=99)</td>\n",
       "      <td>0.937384</td>\n",
       "      <td>0.870748</td>\n",
       "      <td>0.913043</td>\n",
       "      <td>0.828947</td>\n",
       "    </tr>\n",
       "    <tr>\n",
       "      <th>1</th>\n",
       "      <td>GridSearchCV(cv=5, estimator=DecisionTreeClass...</td>\n",
       "      <td>0.910442</td>\n",
       "      <td>0.843537</td>\n",
       "      <td>0.855072</td>\n",
       "      <td>0.819444</td>\n",
       "    </tr>\n",
       "    <tr>\n",
       "      <th>2</th>\n",
       "      <td>GridSearchCV(cv=5, estimator=RandomForestClass...</td>\n",
       "      <td>0.942772</td>\n",
       "      <td>0.857143</td>\n",
       "      <td>0.913043</td>\n",
       "      <td>0.807692</td>\n",
       "    </tr>\n",
       "    <tr>\n",
       "      <th>3</th>\n",
       "      <td>GridSearchCV(cv=5, estimator=SVC(probability=T...</td>\n",
       "      <td>0.931624</td>\n",
       "      <td>0.891156</td>\n",
       "      <td>0.927536</td>\n",
       "      <td>0.853333</td>\n",
       "    </tr>\n",
       "    <tr>\n",
       "      <th>4</th>\n",
       "      <td>GaussianNB()</td>\n",
       "      <td>0.943330</td>\n",
       "      <td>0.870748</td>\n",
       "      <td>0.927536</td>\n",
       "      <td>0.820513</td>\n",
       "    </tr>\n",
       "    <tr>\n",
       "      <th>5</th>\n",
       "      <td>KNeighborsClassifier(n_neighbors=3)</td>\n",
       "      <td>0.916202</td>\n",
       "      <td>0.877551</td>\n",
       "      <td>0.927536</td>\n",
       "      <td>0.831169</td>\n",
       "    </tr>\n",
       "  </tbody>\n",
       "</table>\n",
       "</div>"
      ],
      "text/plain": [
       "                              Model With Scaled Data   AUC-ROC  Accuracy  \\\n",
       "0        LogisticRegressionCV(cv=5, random_state=99)  0.937384  0.870748   \n",
       "1  GridSearchCV(cv=5, estimator=DecisionTreeClass...  0.910442  0.843537   \n",
       "2  GridSearchCV(cv=5, estimator=RandomForestClass...  0.942772  0.857143   \n",
       "3  GridSearchCV(cv=5, estimator=SVC(probability=T...  0.931624  0.891156   \n",
       "4                                       GaussianNB()  0.943330  0.870748   \n",
       "5                KNeighborsClassifier(n_neighbors=3)  0.916202  0.877551   \n",
       "\n",
       "     Recall  Precision  \n",
       "0  0.913043   0.828947  \n",
       "1  0.855072   0.819444  \n",
       "2  0.913043   0.807692  \n",
       "3  0.927536   0.853333  \n",
       "4  0.927536   0.820513  \n",
       "5  0.927536   0.831169  "
      ]
     },
     "execution_count": 134,
     "metadata": {},
     "output_type": "execute_result"
    }
   ],
   "source": [
    "from sklearn.metrics import precision_score, recall_score\n",
    "\n",
    "recall_score(y_test, lr.predict(X_test_final))\n",
    "data_performance = pd.DataFrame(columns=['Model With Scaled Data', 'AUC-ROC', 'Accuracy', 'Recall', 'Precision'])\n",
    "\n",
    "models = [lr, tree_clf, forest_clf, svm_clf, nb_classifier, neigh]\n",
    "\n",
    "for model in models:\n",
    "    auc = roc_auc_score(y_test, model.predict_proba(X_test_final)[:, 1])\n",
    "    accuracy = model.score(X_test_final, y_test)\n",
    "    recall = recall_score(y_test, model.predict(X_test_final))\n",
    "    precision = precision_score(y_test, model.predict(X_test_final))\n",
    "    \n",
    "    data_performance = data_performance.append({'Model With Scaled Data':model, 'AUC-ROC':auc, 'Accuracy':accuracy,\n",
    "                                            'Recall':recall, 'Precision':precision}, ignore_index=True)\n",
    "    \n",
    "data_performance"
   ]
  },
  {
   "cell_type": "code",
   "execution_count": 238,
   "id": "17202b6e",
   "metadata": {},
   "outputs": [
    {
     "data": {
      "text/html": [
       "<div>\n",
       "<style scoped>\n",
       "    .dataframe tbody tr th:only-of-type {\n",
       "        vertical-align: middle;\n",
       "    }\n",
       "\n",
       "    .dataframe tbody tr th {\n",
       "        vertical-align: top;\n",
       "    }\n",
       "\n",
       "    .dataframe thead th {\n",
       "        text-align: right;\n",
       "    }\n",
       "</style>\n",
       "<table border=\"1\" class=\"dataframe\">\n",
       "  <thead>\n",
       "    <tr style=\"text-align: right;\">\n",
       "      <th></th>\n",
       "      <th>age</th>\n",
       "      <th>gender</th>\n",
       "      <th>chest pain type</th>\n",
       "      <th>resting blood pressure</th>\n",
       "      <th>cholesterol</th>\n",
       "      <th>fasting blood sugar</th>\n",
       "      <th>rest ecg</th>\n",
       "      <th>max heart rate achieved</th>\n",
       "      <th>exercise induced angina</th>\n",
       "      <th>st depression</th>\n",
       "      <th>st slope</th>\n",
       "      <th>Heart Disease</th>\n",
       "    </tr>\n",
       "  </thead>\n",
       "  <tbody>\n",
       "    <tr>\n",
       "      <th>0</th>\n",
       "      <td>40</td>\n",
       "      <td>male</td>\n",
       "      <td>atypical angina</td>\n",
       "      <td>140</td>\n",
       "      <td>289</td>\n",
       "      <td>lower than 120mg/ml</td>\n",
       "      <td>Normal</td>\n",
       "      <td>172</td>\n",
       "      <td>N</td>\n",
       "      <td>0.0</td>\n",
       "      <td>Up</td>\n",
       "      <td>0</td>\n",
       "    </tr>\n",
       "    <tr>\n",
       "      <th>2</th>\n",
       "      <td>37</td>\n",
       "      <td>male</td>\n",
       "      <td>atypical angina</td>\n",
       "      <td>130</td>\n",
       "      <td>283</td>\n",
       "      <td>lower than 120mg/ml</td>\n",
       "      <td>ST</td>\n",
       "      <td>98</td>\n",
       "      <td>N</td>\n",
       "      <td>0.0</td>\n",
       "      <td>Up</td>\n",
       "      <td>0</td>\n",
       "    </tr>\n",
       "    <tr>\n",
       "      <th>4</th>\n",
       "      <td>54</td>\n",
       "      <td>male</td>\n",
       "      <td>non-anginal pain</td>\n",
       "      <td>150</td>\n",
       "      <td>195</td>\n",
       "      <td>lower than 120mg/ml</td>\n",
       "      <td>Normal</td>\n",
       "      <td>122</td>\n",
       "      <td>N</td>\n",
       "      <td>0.0</td>\n",
       "      <td>Up</td>\n",
       "      <td>0</td>\n",
       "    </tr>\n",
       "    <tr>\n",
       "      <th>5</th>\n",
       "      <td>39</td>\n",
       "      <td>male</td>\n",
       "      <td>non-anginal pain</td>\n",
       "      <td>120</td>\n",
       "      <td>339</td>\n",
       "      <td>lower than 120mg/ml</td>\n",
       "      <td>Normal</td>\n",
       "      <td>170</td>\n",
       "      <td>N</td>\n",
       "      <td>0.0</td>\n",
       "      <td>Up</td>\n",
       "      <td>0</td>\n",
       "    </tr>\n",
       "    <tr>\n",
       "      <th>6</th>\n",
       "      <td>45</td>\n",
       "      <td>female</td>\n",
       "      <td>atypical angina</td>\n",
       "      <td>130</td>\n",
       "      <td>237</td>\n",
       "      <td>lower than 120mg/ml</td>\n",
       "      <td>Normal</td>\n",
       "      <td>170</td>\n",
       "      <td>N</td>\n",
       "      <td>0.0</td>\n",
       "      <td>Up</td>\n",
       "      <td>0</td>\n",
       "    </tr>\n",
       "    <tr>\n",
       "      <th>...</th>\n",
       "      <td>...</td>\n",
       "      <td>...</td>\n",
       "      <td>...</td>\n",
       "      <td>...</td>\n",
       "      <td>...</td>\n",
       "      <td>...</td>\n",
       "      <td>...</td>\n",
       "      <td>...</td>\n",
       "      <td>...</td>\n",
       "      <td>...</td>\n",
       "      <td>...</td>\n",
       "      <td>...</td>\n",
       "    </tr>\n",
       "    <tr>\n",
       "      <th>903</th>\n",
       "      <td>56</td>\n",
       "      <td>male</td>\n",
       "      <td>atypical angina</td>\n",
       "      <td>130</td>\n",
       "      <td>221</td>\n",
       "      <td>lower than 120mg/ml</td>\n",
       "      <td>LVH</td>\n",
       "      <td>163</td>\n",
       "      <td>N</td>\n",
       "      <td>0.0</td>\n",
       "      <td>Up</td>\n",
       "      <td>0</td>\n",
       "    </tr>\n",
       "    <tr>\n",
       "      <th>904</th>\n",
       "      <td>56</td>\n",
       "      <td>male</td>\n",
       "      <td>atypical angina</td>\n",
       "      <td>120</td>\n",
       "      <td>240</td>\n",
       "      <td>lower than 120mg/ml</td>\n",
       "      <td>Normal</td>\n",
       "      <td>169</td>\n",
       "      <td>N</td>\n",
       "      <td>0.0</td>\n",
       "      <td>Down</td>\n",
       "      <td>0</td>\n",
       "    </tr>\n",
       "    <tr>\n",
       "      <th>906</th>\n",
       "      <td>55</td>\n",
       "      <td>female</td>\n",
       "      <td>atypical angina</td>\n",
       "      <td>132</td>\n",
       "      <td>342</td>\n",
       "      <td>lower than 120mg/ml</td>\n",
       "      <td>Normal</td>\n",
       "      <td>166</td>\n",
       "      <td>N</td>\n",
       "      <td>1.2</td>\n",
       "      <td>Up</td>\n",
       "      <td>0</td>\n",
       "    </tr>\n",
       "    <tr>\n",
       "      <th>910</th>\n",
       "      <td>41</td>\n",
       "      <td>male</td>\n",
       "      <td>atypical angina</td>\n",
       "      <td>120</td>\n",
       "      <td>157</td>\n",
       "      <td>lower than 120mg/ml</td>\n",
       "      <td>Normal</td>\n",
       "      <td>182</td>\n",
       "      <td>N</td>\n",
       "      <td>0.0</td>\n",
       "      <td>Up</td>\n",
       "      <td>0</td>\n",
       "    </tr>\n",
       "    <tr>\n",
       "      <th>917</th>\n",
       "      <td>38</td>\n",
       "      <td>male</td>\n",
       "      <td>non-anginal pain</td>\n",
       "      <td>138</td>\n",
       "      <td>175</td>\n",
       "      <td>lower than 120mg/ml</td>\n",
       "      <td>Normal</td>\n",
       "      <td>173</td>\n",
       "      <td>N</td>\n",
       "      <td>0.0</td>\n",
       "      <td>Up</td>\n",
       "      <td>0</td>\n",
       "    </tr>\n",
       "  </tbody>\n",
       "</table>\n",
       "<p>388 rows × 12 columns</p>\n",
       "</div>"
      ],
      "text/plain": [
       "     age  gender   chest pain type  resting blood pressure  cholesterol  \\\n",
       "0     40    male   atypical angina                     140          289   \n",
       "2     37    male   atypical angina                     130          283   \n",
       "4     54    male  non-anginal pain                     150          195   \n",
       "5     39    male  non-anginal pain                     120          339   \n",
       "6     45  female   atypical angina                     130          237   \n",
       "..   ...     ...               ...                     ...          ...   \n",
       "903   56    male   atypical angina                     130          221   \n",
       "904   56    male   atypical angina                     120          240   \n",
       "906   55  female   atypical angina                     132          342   \n",
       "910   41    male   atypical angina                     120          157   \n",
       "917   38    male  non-anginal pain                     138          175   \n",
       "\n",
       "     fasting blood sugar rest ecg  max heart rate achieved  \\\n",
       "0    lower than 120mg/ml   Normal                      172   \n",
       "2    lower than 120mg/ml       ST                       98   \n",
       "4    lower than 120mg/ml   Normal                      122   \n",
       "5    lower than 120mg/ml   Normal                      170   \n",
       "6    lower than 120mg/ml   Normal                      170   \n",
       "..                   ...      ...                      ...   \n",
       "903  lower than 120mg/ml      LVH                      163   \n",
       "904  lower than 120mg/ml   Normal                      169   \n",
       "906  lower than 120mg/ml   Normal                      166   \n",
       "910  lower than 120mg/ml   Normal                      182   \n",
       "917  lower than 120mg/ml   Normal                      173   \n",
       "\n",
       "    exercise induced angina  st depression st slope  Heart Disease  \n",
       "0                         N            0.0       Up              0  \n",
       "2                         N            0.0       Up              0  \n",
       "4                         N            0.0       Up              0  \n",
       "5                         N            0.0       Up              0  \n",
       "6                         N            0.0       Up              0  \n",
       "..                      ...            ...      ...            ...  \n",
       "903                       N            0.0       Up              0  \n",
       "904                       N            0.0     Down              0  \n",
       "906                       N            1.2       Up              0  \n",
       "910                       N            0.0       Up              0  \n",
       "917                       N            0.0       Up              0  \n",
       "\n",
       "[388 rows x 12 columns]"
      ]
     },
     "metadata": {},
     "output_type": "display_data"
    }
   ],
   "source": [
    "HD_NO = data[data['Heart Disease']==0]\n",
    "display(HD_NO)"
   ]
  },
  {
   "cell_type": "code",
   "execution_count": 249,
   "id": "5178c4fe",
   "metadata": {},
   "outputs": [
    {
     "data": {
      "text/plain": [
       "age                                         48.0\n",
       "resting blood pressure                     138.0\n",
       "cholesterol                                214.0\n",
       "max heart rate achieved                    108.0\n",
       "st depression                                1.5\n",
       "gender_male                                  0.0\n",
       "chest pain type_atypical angina              0.0\n",
       "chest pain type_non-anginal pain             0.0\n",
       "chest pain type_typical angina               0.0\n",
       "fasting blood sugar_lower than 120mg/ml      1.0\n",
       "rest ecg_Normal                              1.0\n",
       "rest ecg_ST                                  0.0\n",
       "exercise induced angina_Y                    1.0\n",
       "st slope_Flat                                1.0\n",
       "st slope_Up                                  0.0\n",
       "Name: 3, dtype: float64"
      ]
     },
     "metadata": {},
     "output_type": "display_data"
    }
   ],
   "source": [
    "input_data = data_encoded.iloc[3]\n",
    "input_data.pop('Heart Disease')\n",
    "display(input_data)"
   ]
  },
  {
   "cell_type": "code",
   "execution_count": 248,
   "id": "e0586293",
   "metadata": {},
   "outputs": [
    {
     "name": "stdout",
     "output_type": "stream",
     "text": [
      "[1]\n"
     ]
    }
   ],
   "source": [
    "\n",
    "output = neigh.predict(input_data.values.reshape(1,-1))\n",
    "print(output)"
   ]
  },
  {
   "cell_type": "code",
   "execution_count": null,
   "id": "3b7b75eb",
   "metadata": {},
   "outputs": [],
   "source": []
  }
 ],
 "metadata": {
  "kernelspec": {
   "display_name": "Python 3 (ipykernel)",
   "language": "python",
   "name": "python3"
  },
  "language_info": {
   "codemirror_mode": {
    "name": "ipython",
    "version": 3
   },
   "file_extension": ".py",
   "mimetype": "text/x-python",
   "name": "python",
   "nbconvert_exporter": "python",
   "pygments_lexer": "ipython3",
   "version": "3.9.7"
  }
 },
 "nbformat": 4,
 "nbformat_minor": 5
}
