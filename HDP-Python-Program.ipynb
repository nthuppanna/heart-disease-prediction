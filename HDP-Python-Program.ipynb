{
 "cells": [
  {
   "cell_type": "markdown",
   "id": "fe63bdba",
   "metadata": {},
   "source": [
    "Load CSV File Pandas and NumPy"
   ]
  },
  {
   "cell_type": "code",
   "execution_count": 96,
   "id": "0288d1e9",
   "metadata": {},
   "outputs": [],
   "source": [
    "import numpy as numpy # linear algebra\n",
    "import pandas as pandas # data processing, CSV file I/O (e.g. pd.read_csv)\n",
    "\n",
    "# For visualizing\n",
    "import matplotlib.pyplot as plt\n",
    "import seaborn as sns\n",
    "\n",
    "# For ignoring warning\n",
    "import warnings\n",
    "warnings.simplefilter(action='ignore', category=FutureWarning)\n",
    "\n",
    "data = pd.read_csv('heart.csv')"
   ]
  },
  {
   "cell_type": "markdown",
   "id": "20d833f5",
   "metadata": {},
   "source": [
    "Dipslay Data"
   ]
  },
  {
   "cell_type": "code",
   "execution_count": 97,
   "id": "ec0062fe",
   "metadata": {},
   "outputs": [
    {
     "data": {
      "text/html": [
       "<div>\n",
       "<style scoped>\n",
       "    .dataframe tbody tr th:only-of-type {\n",
       "        vertical-align: middle;\n",
       "    }\n",
       "\n",
       "    .dataframe tbody tr th {\n",
       "        vertical-align: top;\n",
       "    }\n",
       "\n",
       "    .dataframe thead th {\n",
       "        text-align: right;\n",
       "    }\n",
       "</style>\n",
       "<table border=\"1\" class=\"dataframe\">\n",
       "  <thead>\n",
       "    <tr style=\"text-align: right;\">\n",
       "      <th></th>\n",
       "      <th>Age</th>\n",
       "      <th>Sex</th>\n",
       "      <th>ChestPainType</th>\n",
       "      <th>RestingBP</th>\n",
       "      <th>Cholesterol</th>\n",
       "      <th>FastingBS</th>\n",
       "      <th>RestingECG</th>\n",
       "      <th>MaxHR</th>\n",
       "      <th>ExerciseAngina</th>\n",
       "      <th>Oldpeak</th>\n",
       "      <th>ST_Slope</th>\n",
       "      <th>HeartDisease</th>\n",
       "    </tr>\n",
       "  </thead>\n",
       "  <tbody>\n",
       "    <tr>\n",
       "      <th>0</th>\n",
       "      <td>40</td>\n",
       "      <td>M</td>\n",
       "      <td>ATA</td>\n",
       "      <td>140</td>\n",
       "      <td>289</td>\n",
       "      <td>0</td>\n",
       "      <td>Normal</td>\n",
       "      <td>172</td>\n",
       "      <td>N</td>\n",
       "      <td>0.0</td>\n",
       "      <td>Up</td>\n",
       "      <td>0</td>\n",
       "    </tr>\n",
       "    <tr>\n",
       "      <th>1</th>\n",
       "      <td>49</td>\n",
       "      <td>F</td>\n",
       "      <td>NAP</td>\n",
       "      <td>160</td>\n",
       "      <td>180</td>\n",
       "      <td>0</td>\n",
       "      <td>Normal</td>\n",
       "      <td>156</td>\n",
       "      <td>N</td>\n",
       "      <td>1.0</td>\n",
       "      <td>Flat</td>\n",
       "      <td>1</td>\n",
       "    </tr>\n",
       "    <tr>\n",
       "      <th>2</th>\n",
       "      <td>37</td>\n",
       "      <td>M</td>\n",
       "      <td>ATA</td>\n",
       "      <td>130</td>\n",
       "      <td>283</td>\n",
       "      <td>0</td>\n",
       "      <td>ST</td>\n",
       "      <td>98</td>\n",
       "      <td>N</td>\n",
       "      <td>0.0</td>\n",
       "      <td>Up</td>\n",
       "      <td>0</td>\n",
       "    </tr>\n",
       "    <tr>\n",
       "      <th>3</th>\n",
       "      <td>48</td>\n",
       "      <td>F</td>\n",
       "      <td>ASY</td>\n",
       "      <td>138</td>\n",
       "      <td>214</td>\n",
       "      <td>0</td>\n",
       "      <td>Normal</td>\n",
       "      <td>108</td>\n",
       "      <td>Y</td>\n",
       "      <td>1.5</td>\n",
       "      <td>Flat</td>\n",
       "      <td>1</td>\n",
       "    </tr>\n",
       "    <tr>\n",
       "      <th>4</th>\n",
       "      <td>54</td>\n",
       "      <td>M</td>\n",
       "      <td>NAP</td>\n",
       "      <td>150</td>\n",
       "      <td>195</td>\n",
       "      <td>0</td>\n",
       "      <td>Normal</td>\n",
       "      <td>122</td>\n",
       "      <td>N</td>\n",
       "      <td>0.0</td>\n",
       "      <td>Up</td>\n",
       "      <td>0</td>\n",
       "    </tr>\n",
       "    <tr>\n",
       "      <th>...</th>\n",
       "      <td>...</td>\n",
       "      <td>...</td>\n",
       "      <td>...</td>\n",
       "      <td>...</td>\n",
       "      <td>...</td>\n",
       "      <td>...</td>\n",
       "      <td>...</td>\n",
       "      <td>...</td>\n",
       "      <td>...</td>\n",
       "      <td>...</td>\n",
       "      <td>...</td>\n",
       "      <td>...</td>\n",
       "    </tr>\n",
       "    <tr>\n",
       "      <th>913</th>\n",
       "      <td>45</td>\n",
       "      <td>M</td>\n",
       "      <td>TA</td>\n",
       "      <td>110</td>\n",
       "      <td>264</td>\n",
       "      <td>0</td>\n",
       "      <td>Normal</td>\n",
       "      <td>132</td>\n",
       "      <td>N</td>\n",
       "      <td>1.2</td>\n",
       "      <td>Flat</td>\n",
       "      <td>1</td>\n",
       "    </tr>\n",
       "    <tr>\n",
       "      <th>914</th>\n",
       "      <td>68</td>\n",
       "      <td>M</td>\n",
       "      <td>ASY</td>\n",
       "      <td>144</td>\n",
       "      <td>193</td>\n",
       "      <td>1</td>\n",
       "      <td>Normal</td>\n",
       "      <td>141</td>\n",
       "      <td>N</td>\n",
       "      <td>3.4</td>\n",
       "      <td>Flat</td>\n",
       "      <td>1</td>\n",
       "    </tr>\n",
       "    <tr>\n",
       "      <th>915</th>\n",
       "      <td>57</td>\n",
       "      <td>M</td>\n",
       "      <td>ASY</td>\n",
       "      <td>130</td>\n",
       "      <td>131</td>\n",
       "      <td>0</td>\n",
       "      <td>Normal</td>\n",
       "      <td>115</td>\n",
       "      <td>Y</td>\n",
       "      <td>1.2</td>\n",
       "      <td>Flat</td>\n",
       "      <td>1</td>\n",
       "    </tr>\n",
       "    <tr>\n",
       "      <th>916</th>\n",
       "      <td>57</td>\n",
       "      <td>F</td>\n",
       "      <td>ATA</td>\n",
       "      <td>130</td>\n",
       "      <td>236</td>\n",
       "      <td>0</td>\n",
       "      <td>LVH</td>\n",
       "      <td>174</td>\n",
       "      <td>N</td>\n",
       "      <td>0.0</td>\n",
       "      <td>Flat</td>\n",
       "      <td>1</td>\n",
       "    </tr>\n",
       "    <tr>\n",
       "      <th>917</th>\n",
       "      <td>38</td>\n",
       "      <td>M</td>\n",
       "      <td>NAP</td>\n",
       "      <td>138</td>\n",
       "      <td>175</td>\n",
       "      <td>0</td>\n",
       "      <td>Normal</td>\n",
       "      <td>173</td>\n",
       "      <td>N</td>\n",
       "      <td>0.0</td>\n",
       "      <td>Up</td>\n",
       "      <td>0</td>\n",
       "    </tr>\n",
       "  </tbody>\n",
       "</table>\n",
       "<p>918 rows × 12 columns</p>\n",
       "</div>"
      ],
      "text/plain": [
       "     Age Sex ChestPainType  RestingBP  Cholesterol  FastingBS RestingECG  \\\n",
       "0     40   M           ATA        140          289          0     Normal   \n",
       "1     49   F           NAP        160          180          0     Normal   \n",
       "2     37   M           ATA        130          283          0         ST   \n",
       "3     48   F           ASY        138          214          0     Normal   \n",
       "4     54   M           NAP        150          195          0     Normal   \n",
       "..   ...  ..           ...        ...          ...        ...        ...   \n",
       "913   45   M            TA        110          264          0     Normal   \n",
       "914   68   M           ASY        144          193          1     Normal   \n",
       "915   57   M           ASY        130          131          0     Normal   \n",
       "916   57   F           ATA        130          236          0        LVH   \n",
       "917   38   M           NAP        138          175          0     Normal   \n",
       "\n",
       "     MaxHR ExerciseAngina  Oldpeak ST_Slope  HeartDisease  \n",
       "0      172              N      0.0       Up             0  \n",
       "1      156              N      1.0     Flat             1  \n",
       "2       98              N      0.0       Up             0  \n",
       "3      108              Y      1.5     Flat             1  \n",
       "4      122              N      0.0       Up             0  \n",
       "..     ...            ...      ...      ...           ...  \n",
       "913    132              N      1.2     Flat             1  \n",
       "914    141              N      3.4     Flat             1  \n",
       "915    115              Y      1.2     Flat             1  \n",
       "916    174              N      0.0     Flat             1  \n",
       "917    173              N      0.0       Up             0  \n",
       "\n",
       "[918 rows x 12 columns]"
      ]
     },
     "metadata": {},
     "output_type": "display_data"
    }
   ],
   "source": [
    "display(data)"
   ]
  },
  {
   "cell_type": "markdown",
   "id": "7f373bdf",
   "metadata": {},
   "source": [
    "Cleaning Data:"
   ]
  },
  {
   "cell_type": "markdown",
   "id": "9e17644b",
   "metadata": {},
   "source": [
    "Correcting the Data Types"
   ]
  },
  {
   "cell_type": "code",
   "execution_count": 98,
   "id": "a3025215",
   "metadata": {},
   "outputs": [
    {
     "data": {
      "text/plain": [
       "array(['Normal', 'ST', 'LVH'], dtype=object)"
      ]
     },
     "execution_count": 98,
     "metadata": {},
     "output_type": "execute_result"
    }
   ],
   "source": [
    "# Renaming the columns\n",
    "renamed_columns = ['age', 'gender', 'chest pain type', 'resting blood pressure', 'cholesterol', \n",
    "                   'fasting blood sugar', 'rest ecg', 'max heart rate achieved','exercise induced angina',\n",
    "                   'st depression', 'st slope', 'Heart Disease']\n",
    "data.columns = renamed_columns\n",
    "\n",
    "# Correcting the data types\n",
    "categorical_columns = ['gender', 'chest pain type', 'fasting blood sugar', 'rest ecg',\n",
    "                       'exercise induced angina', 'st slope']\n",
    "data[categorical_columns] = data[categorical_columns].astype('object')\n",
    "data['rest ecg'].unique()"
   ]
  },
  {
   "cell_type": "markdown",
   "id": "9b5f7db7",
   "metadata": {},
   "source": [
    "Removing the unecessary columns or values"
   ]
  },
  {
   "cell_type": "code",
   "execution_count": 99,
   "id": "99b7ae31",
   "metadata": {},
   "outputs": [
    {
     "ename": "NameError",
     "evalue": "name 'x' is not defined",
     "output_type": "error",
     "traceback": [
      "\u001b[1;31m---------------------------------------------------------------------------\u001b[0m",
      "\u001b[1;31mNameError\u001b[0m                                 Traceback (most recent call last)",
      "\u001b[1;32m~\\AppData\\Local\\Temp/ipykernel_18540/3050348099.py\u001b[0m in \u001b[0;36m<module>\u001b[1;34m\u001b[0m\n\u001b[0;32m     16\u001b[0m     \u001b[0maxis\u001b[0m\u001b[1;33m.\u001b[0m\u001b[0mset_ylabel\u001b[0m\u001b[1;33m(\u001b[0m\u001b[1;34m'Number of Pcheople'\u001b[0m\u001b[1;33m,\u001b[0m \u001b[0mfontsize\u001b[0m\u001b[1;33m=\u001b[0m\u001b[1;36m14\u001b[0m\u001b[1;33m)\u001b[0m\u001b[1;33m;\u001b[0m\u001b[1;33m\u001b[0m\u001b[1;33m\u001b[0m\u001b[0m\n\u001b[0;32m     17\u001b[0m     \u001b[0maxis\u001b[0m\u001b[1;33m.\u001b[0m\u001b[0mset_xlabel\u001b[0m\u001b[1;33m(\u001b[0m\u001b[0mcol\u001b[0m\u001b[1;33m,\u001b[0m \u001b[0mfontsize\u001b[0m\u001b[1;33m=\u001b[0m\u001b[1;36m16\u001b[0m\u001b[1;33m)\u001b[0m\u001b[1;33m;\u001b[0m\u001b[1;33m\u001b[0m\u001b[1;33m\u001b[0m\u001b[0m\n\u001b[1;32m---> 18\u001b[1;33m \u001b[0mx\u001b[0m\u001b[1;33m\u001b[0m\u001b[1;33m\u001b[0m\u001b[0m\n\u001b[0m\u001b[0;32m     19\u001b[0m \u001b[0mfig\u001b[0m\u001b[1;33m.\u001b[0m\u001b[0mtext\u001b[0m\u001b[1;33m(\u001b[0m\u001b[1;36m0.5\u001b[0m\u001b[1;33m,\u001b[0m \u001b[1;36m1.01\u001b[0m\u001b[1;33m,\u001b[0m \u001b[1;34m'Frequency plot of the categorical features'\u001b[0m\u001b[1;33m,\u001b[0m \u001b[0mha\u001b[0m \u001b[1;33m=\u001b[0m \u001b[1;34m'center'\u001b[0m\u001b[1;33m,\u001b[0m \u001b[0mfontsize\u001b[0m \u001b[1;33m=\u001b[0m \u001b[1;36m20\u001b[0m\u001b[1;33m)\u001b[0m\u001b[1;33m\u001b[0m\u001b[1;33m\u001b[0m\u001b[0m\n\u001b[0;32m     20\u001b[0m \u001b[0mplt\u001b[0m\u001b[1;33m.\u001b[0m\u001b[0mtight_layout\u001b[0m\u001b[1;33m(\u001b[0m\u001b[1;33m)\u001b[0m\u001b[1;33m\u001b[0m\u001b[1;33m\u001b[0m\u001b[0m\n",
      "\u001b[1;31mNameError\u001b[0m: name 'x' is not defined"
     ]
    },
    {
     "data": {
      "image/png": "[encoded data removed]",
      "text/plain": [
       "<Figure size 1440x1008 with 6 Axes>"
      ]
     },
     "metadata": {},
     "output_type": "display_data"
    }
   ],
   "source": [
    "#All columns are important\n",
    "#Check the frequency of the values in the categorical features\n",
    "#Variation of Heart Attack rate with each categorical variable\n",
    "fig, ax=plt.subplots(2,3, figsize=(20,14), sharey=True)\n",
    "\n",
    "for col, axis in zip(categorical_columns, ax.ravel()):\n",
    "    sns.countplot(x=col, data=data, ax=axis, order = np.sort(data[col].unique()))\n",
    "    for i in axis.patches:    \n",
    "        axis.text(x = i.get_x() + i.get_width()/2, y = i.get_height()+3,\n",
    "                s = f\"{i.get_height()}\", \n",
    "                ha = 'center', size = 16, rotation = 0, color = 'black')\n",
    "# #                 bbox=dict(boxstyle=\"circle,pad=0.5\", fc='pink', ec=\"pink\", lw=2))\n",
    "\n",
    "#     axis.set_title(f'{col}', fontsize=16, y=1.01);\n",
    "    axis.set_xticklabels(np.sort(data[col].unique()), fontsize=16)\n",
    "    axis.set_ylabel('Number of Pcheople', fontsize=14);\n",
    "    axis.set_xlabel(col, fontsize=16);\n",
    "x\n",
    "fig.text(0.5, 1.01, 'Frequency plot of the categorical features', ha = 'center', fontsize = 20)\n",
    "plt.tight_layout()\n",
    "\n",
    "# Also renaming the values in the catergorical features\n",
    "data['gender'].replace({'F':'female','M':'male'}, inplace=True)\n",
    "\n",
    "data['chest pain type'].replace({'TA':'typical angina','ATA':'atypical angina','NAP':'non-anginal pain','ASY':'asymptomatic'}, inplace=True)\n",
    "\n",
    "data['fasting blood sugar'].replace({0:'lower than 120mg/ml',1:'greater than 120mg/ml'}, inplace=True)\n",
    "\n",
    "#data['rest ecg'].replace({0:'normal',1:'ST-T wave abnormality'}, inplace=True)\n",
    "\n",
    "data['exercise induced angina'].replace({0:'no',1:'yes'}, inplace=True)"
   ]
  },
  {
   "cell_type": "markdown",
   "id": "b4b6a910",
   "metadata": {},
   "source": [
    "Handling Missing Values"
   ]
  },
  {
   "cell_type": "code",
   "execution_count": 100,
   "id": "310dbc89",
   "metadata": {},
   "outputs": [
    {
     "data": {
      "text/plain": [
       "age                        0\n",
       "gender                     0\n",
       "chest pain type            0\n",
       "resting blood pressure     0\n",
       "cholesterol                0\n",
       "fasting blood sugar        0\n",
       "rest ecg                   0\n",
       "max heart rate achieved    0\n",
       "exercise induced angina    0\n",
       "st depression              0\n",
       "st slope                   0\n",
       "Heart Disease              0\n",
       "dtype: int64"
      ]
     },
     "execution_count": 100,
     "metadata": {},
     "output_type": "execute_result"
    }
   ],
   "source": [
    "data.isnull().sum()"
   ]
  },
  {
   "cell_type": "code",
   "execution_count": 101,
   "id": "a51b2c2d",
   "metadata": {},
   "outputs": [],
   "source": [
    "#there are no missing values"
   ]
  },
  {
   "cell_type": "markdown",
   "id": "a1895303",
   "metadata": {},
   "source": [
    "Removing Outliers"
   ]
  },
  {
   "cell_type": "code",
   "execution_count": 102,
   "id": "1e45e91d",
   "metadata": {},
   "outputs": [
    {
     "data": {
      "image/png": "[encoded data removed]",
      "text/plain": [
       "<Figure size 864x1080 with 10 Axes>"
      ]
     },
     "metadata": {},
     "output_type": "display_data"
    }
   ],
   "source": [
    "# Let's look at the outliers and the distribution of the numeric features\n",
    "numeric_variables = [i for i in data.select_dtypes(['int','float']).columns[:-1]]\n",
    "plt.style.use('seaborn')\n",
    "fig, axis = plt.subplots(5, 2, figsize = (12, 15))\n",
    "for i, num_var in enumerate(numeric_variables):\n",
    "    \n",
    "    # Checking for the outliers using boxplot\n",
    "    sns.boxplot(y = num_var, data = data, ax = axis[i][0], color = 'skyblue')\n",
    "    \n",
    "    # Checking for the distribution using kdeplot\n",
    "    sns.kdeplot(x = num_var, data = data, ax = axis[i][1], color = 'skyblue',\n",
    "               fill = True, alpha = 0.6, linewidth = 1.5)\n",
    "    \n",
    "    axis[i][0].set_ylabel(f\"{num_var}\", fontsize = 12)\n",
    "    axis[i][0].set_xlabel(None)\n",
    "    axis[i][1].set_xlabel(None)\n",
    "    axis[i][1].set_ylabel(None)\n",
    "\n",
    "fig.suptitle('Analysing Numeric Features', fontsize = 16, y = 1)\n",
    "plt.tight_layout()"
   ]
  },
  {
   "cell_type": "code",
   "execution_count": 103,
   "id": "fe72c5e1",
   "metadata": {},
   "outputs": [],
   "source": [
    "#a person may have very high cholesterol, like >500 mg/dl but can't have 0 cholestrol, a rest blood pressure of >180 mm of Hg but not 0 and a ST depression >5\n",
    "# Removing samples with extreme values\n",
    "data = data[(data['resting blood pressure']<=180)&(data['resting blood pressure']>0)]\n",
    "data = data[(data['cholesterol']<=500)&(data['cholesterol']>0)]\n",
    "data = data[data['st depression']<=5]"
   ]
  },
  {
   "cell_type": "markdown",
   "id": "176fbd42",
   "metadata": {},
   "source": [
    "Class Imbalance Measure"
   ]
  },
  {
   "cell_type": "code",
   "execution_count": 104,
   "id": "dd53ec7a",
   "metadata": {},
   "outputs": [
    {
     "data": {
      "image/png": "[encoded data removed]",
      "text/plain": [
       "<Figure size 720x432 with 1 Axes>"
      ]
     },
     "metadata": {},
     "output_type": "display_data"
    }
   ],
   "source": [
    "# Checking for class imbalance\n",
    "colors = ['#90EE90', '#ffcccb']\n",
    "sns.set(palette = colors)\n",
    "\n",
    "fig = plt.figure(figsize = (10, 6))\n",
    "ax = sns.countplot(x = 'Heart Disease', data = data)\n",
    "\n",
    "for i in ax.patches:\n",
    "    ax.text(x = i.get_x() + i.get_width()/2, y = i.get_height()/2, \n",
    "            s = f\"{int(i.get_height()/len(data)*100)}%\", \n",
    "            ha = 'center', size = 50, weight = 'bold', rotation = 0, color = 'white')\n",
    "\n",
    "plt.title(\"Checking for the class imbalance\", size = 20)\n",
    "\n",
    "ax.set_xticklabels(['No Heart Disease', 'Heart Disease'], fontsize=16)\n",
    "plt.xlabel('', fontsize = 16)\n",
    "plt.ylabel('Number of People', fontsize = 16);"
   ]
  },
  {
   "cell_type": "markdown",
   "id": "650523be",
   "metadata": {},
   "source": [
    "One Hot Encoding (Change categorical data to numerical data)"
   ]
  },
  {
   "cell_type": "code",
   "execution_count": 105,
   "id": "7543fc9e",
   "metadata": {},
   "outputs": [
    {
     "data": {
      "text/html": [
       "<div>\n",
       "<style scoped>\n",
       "    .dataframe tbody tr th:only-of-type {\n",
       "        vertical-align: middle;\n",
       "    }\n",
       "\n",
       "    .dataframe tbody tr th {\n",
       "        vertical-align: top;\n",
       "    }\n",
       "\n",
       "    .dataframe thead th {\n",
       "        text-align: right;\n",
       "    }\n",
       "</style>\n",
       "<table border=\"1\" class=\"dataframe\">\n",
       "  <thead>\n",
       "    <tr style=\"text-align: right;\">\n",
       "      <th></th>\n",
       "      <th>age</th>\n",
       "      <th>resting blood pressure</th>\n",
       "      <th>cholesterol</th>\n",
       "      <th>max heart rate achieved</th>\n",
       "      <th>st depression</th>\n",
       "      <th>Heart Disease</th>\n",
       "      <th>gender_M</th>\n",
       "      <th>chest pain type_ATA</th>\n",
       "      <th>chest pain type_NAP</th>\n",
       "      <th>chest pain type_TA</th>\n",
       "      <th>fasting blood sugar_1</th>\n",
       "      <th>rest ecg_Normal</th>\n",
       "      <th>rest ecg_ST</th>\n",
       "      <th>exercise induced angina_Y</th>\n",
       "      <th>st slope_Flat</th>\n",
       "      <th>st slope_Up</th>\n",
       "    </tr>\n",
       "  </thead>\n",
       "  <tbody>\n",
       "    <tr>\n",
       "      <th>0</th>\n",
       "      <td>40</td>\n",
       "      <td>140</td>\n",
       "      <td>289</td>\n",
       "      <td>172</td>\n",
       "      <td>0.0</td>\n",
       "      <td>0</td>\n",
       "      <td>1</td>\n",
       "      <td>1</td>\n",
       "      <td>0</td>\n",
       "      <td>0</td>\n",
       "      <td>0</td>\n",
       "      <td>1</td>\n",
       "      <td>0</td>\n",
       "      <td>0</td>\n",
       "      <td>0</td>\n",
       "      <td>1</td>\n",
       "    </tr>\n",
       "    <tr>\n",
       "      <th>1</th>\n",
       "      <td>49</td>\n",
       "      <td>160</td>\n",
       "      <td>180</td>\n",
       "      <td>156</td>\n",
       "      <td>1.0</td>\n",
       "      <td>1</td>\n",
       "      <td>0</td>\n",
       "      <td>0</td>\n",
       "      <td>1</td>\n",
       "      <td>0</td>\n",
       "      <td>0</td>\n",
       "      <td>1</td>\n",
       "      <td>0</td>\n",
       "      <td>0</td>\n",
       "      <td>1</td>\n",
       "      <td>0</td>\n",
       "    </tr>\n",
       "    <tr>\n",
       "      <th>2</th>\n",
       "      <td>37</td>\n",
       "      <td>130</td>\n",
       "      <td>283</td>\n",
       "      <td>98</td>\n",
       "      <td>0.0</td>\n",
       "      <td>0</td>\n",
       "      <td>1</td>\n",
       "      <td>1</td>\n",
       "      <td>0</td>\n",
       "      <td>0</td>\n",
       "      <td>0</td>\n",
       "      <td>0</td>\n",
       "      <td>1</td>\n",
       "      <td>0</td>\n",
       "      <td>0</td>\n",
       "      <td>1</td>\n",
       "    </tr>\n",
       "    <tr>\n",
       "      <th>3</th>\n",
       "      <td>48</td>\n",
       "      <td>138</td>\n",
       "      <td>214</td>\n",
       "      <td>108</td>\n",
       "      <td>1.5</td>\n",
       "      <td>1</td>\n",
       "      <td>0</td>\n",
       "      <td>0</td>\n",
       "      <td>0</td>\n",
       "      <td>0</td>\n",
       "      <td>0</td>\n",
       "      <td>1</td>\n",
       "      <td>0</td>\n",
       "      <td>1</td>\n",
       "      <td>1</td>\n",
       "      <td>0</td>\n",
       "    </tr>\n",
       "    <tr>\n",
       "      <th>4</th>\n",
       "      <td>54</td>\n",
       "      <td>150</td>\n",
       "      <td>195</td>\n",
       "      <td>122</td>\n",
       "      <td>0.0</td>\n",
       "      <td>0</td>\n",
       "      <td>1</td>\n",
       "      <td>0</td>\n",
       "      <td>1</td>\n",
       "      <td>0</td>\n",
       "      <td>0</td>\n",
       "      <td>1</td>\n",
       "      <td>0</td>\n",
       "      <td>0</td>\n",
       "      <td>0</td>\n",
       "      <td>1</td>\n",
       "    </tr>\n",
       "  </tbody>\n",
       "</table>\n",
       "</div>"
      ],
      "text/plain": [
       "   age  resting blood pressure  cholesterol  max heart rate achieved  \\\n",
       "0   40                     140          289                      172   \n",
       "1   49                     160          180                      156   \n",
       "2   37                     130          283                       98   \n",
       "3   48                     138          214                      108   \n",
       "4   54                     150          195                      122   \n",
       "\n",
       "   st depression  Heart Disease  gender_M  chest pain type_ATA  \\\n",
       "0            0.0              0         1                    1   \n",
       "1            1.0              1         0                    0   \n",
       "2            0.0              0         1                    1   \n",
       "3            1.5              1         0                    0   \n",
       "4            0.0              0         1                    0   \n",
       "\n",
       "   chest pain type_NAP  chest pain type_TA  fasting blood sugar_1  \\\n",
       "0                    0                   0                      0   \n",
       "1                    1                   0                      0   \n",
       "2                    0                   0                      0   \n",
       "3                    0                   0                      0   \n",
       "4                    1                   0                      0   \n",
       "\n",
       "   rest ecg_Normal  rest ecg_ST  exercise induced angina_Y  st slope_Flat  \\\n",
       "0                1            0                          0              0   \n",
       "1                1            0                          0              1   \n",
       "2                0            1                          0              0   \n",
       "3                1            0                          1              1   \n",
       "4                1            0                          0              0   \n",
       "\n",
       "   st slope_Up  \n",
       "0            1  \n",
       "1            0  \n",
       "2            1  \n",
       "3            0  \n",
       "4            1  "
      ]
     },
     "execution_count": 105,
     "metadata": {},
     "output_type": "execute_result"
    }
   ],
   "source": [
    "# One hot encoding - Converting categorical features into encoded form of 0 and 1\n",
    "data_encoded = pd.get_dummies(data, drop_first = True)\n",
    "data_encoded.head()"
   ]
  },
  {
   "cell_type": "markdown",
   "id": "0f45586b",
   "metadata": {},
   "source": [
    "Train and Test Split"
   ]
  },
  {
   "cell_type": "code",
   "execution_count": 106,
   "id": "e6fae617",
   "metadata": {},
   "outputs": [],
   "source": [
    "from sklearn.model_selection import train_test_split\n",
    "\n",
    "X = data_encoded.copy()\n",
    "y = X.pop('Heart Disease')\n",
    "\n",
    "# Train and Test split\n",
    "X_train, X_test, y_train, y_test = train_test_split(X, y,  train_size=0.8, stratify = y) # 80% training 20% testing data"
   ]
  },
  {
   "cell_type": "code",
   "execution_count": 107,
   "id": "604107e0",
   "metadata": {},
   "outputs": [
    {
     "name": "stdout",
     "output_type": "stream",
     "text": [
      "Class proportion in train set: \n",
      " 0    0.527211\n",
      "1    0.472789\n",
      "Name: Heart Disease, dtype: float64\n",
      "--------------------------------------------------\n",
      "Class proportion in test set: \n",
      " 0    0.530612\n",
      "1    0.469388\n",
      "Name: Heart Disease, dtype: float64\n"
     ]
    }
   ],
   "source": [
    "# Checking for the class proprtion in train and test set\n",
    "print('Class proportion in train set: \\n',y_train.value_counts()/y_train.value_counts().sum())\n",
    "print('-'*50)\n",
    "print('Class proportion in test set: \\n',y_test.value_counts()/y_test.value_counts().sum())"
   ]
  },
  {
   "cell_type": "markdown",
   "id": "0a3c074f",
   "metadata": {},
   "source": [
    "Scaling Data"
   ]
  },
  {
   "cell_type": "code",
   "execution_count": 108,
   "id": "ea72ae2a",
   "metadata": {},
   "outputs": [],
   "source": [
    "from sklearn.preprocessing import StandardScaler\n",
    "\n",
    "# Scaling the numeric features\n",
    "scalar = StandardScaler()\n",
    "\n",
    "X_train_scaled = pd.DataFrame(scalar.fit_transform(X_train[numeric_variables]), columns = numeric_variables)\n",
    "X_test_scaled = pd.DataFrame(scalar.transform(X_test[numeric_variables]), columns = numeric_variables)\n",
    "\n",
    "X_train_final = pd.concat([X_train_scaled.reset_index(drop=True), X_train.iloc[:,5:].reset_index(drop=True)], axis=1)\n",
    "X_test_final = pd.concat([X_test_scaled.reset_index(drop=True), X_test.iloc[:,5:].reset_index(drop=True)], axis=1)"
   ]
  },
  {
   "cell_type": "code",
   "execution_count": 109,
   "id": "205a34c2",
   "metadata": {},
   "outputs": [
    {
     "data": {
      "image/png": "[encoded data removed]",
      "text/plain": [
       "<Figure size 1080x504 with 10 Axes>"
      ]
     },
     "metadata": {},
     "output_type": "display_data"
    }
   ],
   "source": [
    "# Checking the distribution of the numeric data after scaling\n",
    "colors = ['#ADD8E6']\n",
    "sns.set(palette = colors)\n",
    "fig, ax = plt.subplots(nrows = 2, ncols = 5, figsize = (15, 7), constrained_layout = True)\n",
    "\n",
    "for axis, num_var in zip(ax.ravel(), numeric_variables): \n",
    "    sns.kdeplot(data = X_train_final, x = num_var, ax = axis,\n",
    "                fill = True, multiple = 'stack', alpha = 0.6, linewidth = 1.5)\n",
    "    axis.set_ylabel(None)\n",
    "    axis.set_xlabel(None)\n",
    "\n",
    "for i, num_var in zip(range(0, 5), numeric_variables): \n",
    "    sns.histplot(data = X_train_final, x = num_var, ax = ax[1][i])\n",
    "    ax[1][i].set_ylabel(None)\n",
    "    ax[1][i].set_xlabel(f'{num_var}', fontsize = 14)\n",
    "    \n",
    "fig.text(0.5, 1.05, 'Distribution of the numeric data after scaling', ha = 'center', fontsize = 20);"
   ]
  },
  {
   "cell_type": "markdown",
   "id": "d7c0fae1",
   "metadata": {},
   "source": [
    "Machine Learning:"
   ]
  },
  {
   "cell_type": "markdown",
   "id": "42ce87b8",
   "metadata": {},
   "source": [
    "Decision Tree Without Scaled Data"
   ]
  },
  {
   "cell_type": "code",
   "execution_count": 110,
   "id": "a4963aa5",
   "metadata": {},
   "outputs": [
    {
     "data": {
      "text/plain": [
       "GridSearchCV(cv=5, estimator=DecisionTreeClassifier(),\n",
       "             param_grid={'max_depth': [3, 5, 7],\n",
       "                         'min_samples_leaf': [5, 10, 15]})"
      ]
     },
     "execution_count": 110,
     "metadata": {},
     "output_type": "execute_result"
    }
   ],
   "source": [
    "from sklearn.tree import DecisionTreeClassifier\n",
    "from sklearn.model_selection import GridSearchCV\n",
    "\n",
    "tree = DecisionTreeClassifier()\n",
    "parameters = {'max_depth':[3,5,7], 'min_samples_leaf':[5,10,15]}\n",
    "\n",
    "tree_clf = GridSearchCV(tree, parameters, cv=5)\n",
    "tree_clf.fit(X_train, y_train)"
   ]
  },
  {
   "cell_type": "code",
   "execution_count": 111,
   "id": "a88faf5f",
   "metadata": {
    "scrolled": true
   },
   "outputs": [
    {
     "name": "stdout",
     "output_type": "stream",
     "text": [
      "Train AUC-ROC score is 0.9145393362729172\n",
      "Test AUC-ROC score is 0.910442214790041\n"
     ]
    }
   ],
   "source": [
    "from sklearn.metrics import roc_auc_score\n",
    "\n",
    "print('Train AUC-ROC score is', roc_auc_score(y_train, tree_clf.predict_proba(X_train)[:, 1]))\n",
    "print('Test AUC-ROC score is', roc_auc_score(y_test, tree_clf.predict_proba(X_test)[:, 1]))"
   ]
  },
  {
   "cell_type": "markdown",
   "id": "179931ad",
   "metadata": {},
   "source": [
    "Random Forest Without Scaled Data"
   ]
  },
  {
   "cell_type": "code",
   "execution_count": 112,
   "id": "2943702d",
   "metadata": {},
   "outputs": [
    {
     "data": {
      "text/plain": [
       "GridSearchCV(cv=5, estimator=RandomForestClassifier(),\n",
       "             param_grid={'max_depth': [3, 5, 7],\n",
       "                         'min_samples_leaf': [5, 10, 15]})"
      ]
     },
     "execution_count": 112,
     "metadata": {},
     "output_type": "execute_result"
    }
   ],
   "source": [
    "from sklearn.ensemble import RandomForestClassifier\n",
    "\n",
    "forest = RandomForestClassifier()\n",
    "parameters = {'max_depth':[3,5,7], 'min_samples_leaf':[5,10,15]}\n",
    "\n",
    "forest_clf = GridSearchCV(forest, parameters, cv=5)\n",
    "forest_clf.fit(X_train, y_train)"
   ]
  },
  {
   "cell_type": "code",
   "execution_count": 113,
   "id": "0de8392c",
   "metadata": {},
   "outputs": [
    {
     "name": "stdout",
     "output_type": "stream",
     "text": [
      "Train AUC-ROC score is 0.9548387096774194\n",
      "Test AUC-ROC score is 0.9451876625789668\n"
     ]
    }
   ],
   "source": [
    "print('Train AUC-ROC score is', roc_auc_score(y_train, forest_clf.predict_proba(X_train)[:, 1]))\n",
    "print('Test AUC-ROC score is', roc_auc_score(y_test, forest_clf.predict_proba(X_test)[:, 1]))"
   ]
  },
  {
   "cell_type": "markdown",
   "id": "4c040b04",
   "metadata": {},
   "source": [
    "Support Vector Machine (SVM) Without Scaled Data"
   ]
  },
  {
   "cell_type": "code",
   "execution_count": 114,
   "id": "84fec59f",
   "metadata": {},
   "outputs": [
    {
     "data": {
      "text/plain": [
       "GridSearchCV(cv=5, estimator=SVC(probability=True),\n",
       "             param_grid={'C': [0.01, 0.1, 0.5, 1, 1.5, 2, 5],\n",
       "                         'kernel': ['rbf', 'linear']})"
      ]
     },
     "execution_count": 114,
     "metadata": {},
     "output_type": "execute_result"
    }
   ],
   "source": [
    "from sklearn.svm import SVC\n",
    "\n",
    "svm_params = {'C':[0.01,0.1,0.5,1,1.5,2,5], 'kernel':['rbf', 'linear']}\n",
    "svm = SVC(probability=True)\n",
    "\n",
    "svm_clf = GridSearchCV(svm, svm_params, cv=5)\n",
    "svm_clf.fit(X_train, y_train)"
   ]
  },
  {
   "cell_type": "code",
   "execution_count": 115,
   "id": "30ccb915",
   "metadata": {},
   "outputs": [
    {
     "name": "stdout",
     "output_type": "stream",
     "text": [
      "Train AUC-ROC score is 0.9250986307728011\n",
      "Test AUC-ROC score is 0.9424005945745076\n"
     ]
    }
   ],
   "source": [
    "print('Train AUC-ROC score is', roc_auc_score(y_train, svm_clf.predict_proba(X_train)[:, 1]))\n",
    "print('Test AUC-ROC score is', roc_auc_score(y_test, svm_clf.predict_proba(X_test)[:, 1]))"
   ]
  },
  {
   "cell_type": "markdown",
   "id": "d624bb75",
   "metadata": {},
   "source": [
    "Naive Bayes Without Scaled Data"
   ]
  },
  {
   "cell_type": "code",
   "execution_count": 116,
   "id": "b2db3b95",
   "metadata": {},
   "outputs": [
    {
     "data": {
      "text/plain": [
       "GaussianNB()"
      ]
     },
     "execution_count": 116,
     "metadata": {},
     "output_type": "execute_result"
    }
   ],
   "source": [
    "from sklearn.naive_bayes import GaussianNB\n",
    "nb_classifier = GaussianNB()\n",
    "nb_classifier.fit(X_train, y_train)"
   ]
  },
  {
   "cell_type": "code",
   "execution_count": 117,
   "id": "585f94b2",
   "metadata": {},
   "outputs": [
    {
     "name": "stdout",
     "output_type": "stream",
     "text": [
      "Train AUC-ROC score is 0.9220468786261313\n",
      "Test AUC-ROC score is 0.9433296172426607\n"
     ]
    }
   ],
   "source": [
    "print('Train AUC-ROC score is', roc_auc_score(y_train, nb_classifier.predict_proba(X_train)[:, 1]))\n",
    "print('Test AUC-ROC score is', roc_auc_score(y_test, nb_classifier.predict_proba(X_test)[:, 1]))"
   ]
  },
  {
   "cell_type": "markdown",
   "id": "bfa0640e",
   "metadata": {},
   "source": [
    "K-Nearest Neighbors Without Scaled Data"
   ]
  },
  {
   "cell_type": "code",
   "execution_count": 118,
   "id": "78f2a238",
   "metadata": {},
   "outputs": [
    {
     "data": {
      "text/plain": [
       "KNeighborsClassifier(n_neighbors=3)"
      ]
     },
     "execution_count": 118,
     "metadata": {},
     "output_type": "execute_result"
    }
   ],
   "source": [
    " from sklearn.neighbors import KNeighborsClassifier\n",
    ">>> neigh = KNeighborsClassifier(n_neighbors=3)\n",
    ">>> neigh.fit(X_train, y_train)"
   ]
  },
  {
   "cell_type": "code",
   "execution_count": 119,
   "id": "5e5124c1",
   "metadata": {
    "scrolled": true
   },
   "outputs": [
    {
     "name": "stdout",
     "output_type": "stream",
     "text": [
      "Train AUC-ROC score is 0.884694824785333\n",
      "Test AUC-ROC score is 0.6526384243775548\n"
     ]
    }
   ],
   "source": [
    "print('Train AUC-ROC score is', roc_auc_score(y_train, neigh.predict_proba(X_train)[:, 1]))\n",
    "print('Test AUC-ROC score is', roc_auc_score(y_test, neigh.predict_proba(X_test)[:, 1]))"
   ]
  },
  {
   "cell_type": "markdown",
   "id": "1e2843cc",
   "metadata": {},
   "source": [
    "Models Without Scaled Data Table"
   ]
  },
  {
   "cell_type": "code",
   "execution_count": 120,
   "id": "455aefa5",
   "metadata": {},
   "outputs": [
    {
     "data": {
      "text/html": [
       "<div>\n",
       "<style scoped>\n",
       "    .dataframe tbody tr th:only-of-type {\n",
       "        vertical-align: middle;\n",
       "    }\n",
       "\n",
       "    .dataframe tbody tr th {\n",
       "        vertical-align: top;\n",
       "    }\n",
       "\n",
       "    .dataframe thead th {\n",
       "        text-align: right;\n",
       "    }\n",
       "</style>\n",
       "<table border=\"1\" class=\"dataframe\">\n",
       "  <thead>\n",
       "    <tr style=\"text-align: right;\">\n",
       "      <th></th>\n",
       "      <th>Model Without Scaled Data</th>\n",
       "      <th>AUC-ROC</th>\n",
       "      <th>Accuracy</th>\n",
       "      <th>Recall</th>\n",
       "      <th>Precision</th>\n",
       "    </tr>\n",
       "  </thead>\n",
       "  <tbody>\n",
       "    <tr>\n",
       "      <th>0</th>\n",
       "      <td>GridSearchCV(cv=5, estimator=DecisionTreeClass...</td>\n",
       "      <td>0.910442</td>\n",
       "      <td>0.843537</td>\n",
       "      <td>0.855072</td>\n",
       "      <td>0.819444</td>\n",
       "    </tr>\n",
       "    <tr>\n",
       "      <th>1</th>\n",
       "      <td>GridSearchCV(cv=5, estimator=RandomForestClass...</td>\n",
       "      <td>0.945188</td>\n",
       "      <td>0.863946</td>\n",
       "      <td>0.898551</td>\n",
       "      <td>0.826667</td>\n",
       "    </tr>\n",
       "    <tr>\n",
       "      <th>2</th>\n",
       "      <td>GridSearchCV(cv=5, estimator=SVC(probability=T...</td>\n",
       "      <td>0.942401</td>\n",
       "      <td>0.863946</td>\n",
       "      <td>0.913043</td>\n",
       "      <td>0.818182</td>\n",
       "    </tr>\n",
       "    <tr>\n",
       "      <th>3</th>\n",
       "      <td>GaussianNB()</td>\n",
       "      <td>0.943330</td>\n",
       "      <td>0.870748</td>\n",
       "      <td>0.927536</td>\n",
       "      <td>0.820513</td>\n",
       "    </tr>\n",
       "    <tr>\n",
       "      <th>4</th>\n",
       "      <td>KNeighborsClassifier(n_neighbors=3)</td>\n",
       "      <td>0.652638</td>\n",
       "      <td>0.632653</td>\n",
       "      <td>0.623188</td>\n",
       "      <td>0.605634</td>\n",
       "    </tr>\n",
       "  </tbody>\n",
       "</table>\n",
       "</div>"
      ],
      "text/plain": [
       "                           Model Without Scaled Data   AUC-ROC  Accuracy  \\\n",
       "0  GridSearchCV(cv=5, estimator=DecisionTreeClass...  0.910442  0.843537   \n",
       "1  GridSearchCV(cv=5, estimator=RandomForestClass...  0.945188  0.863946   \n",
       "2  GridSearchCV(cv=5, estimator=SVC(probability=T...  0.942401  0.863946   \n",
       "3                                       GaussianNB()  0.943330  0.870748   \n",
       "4                KNeighborsClassifier(n_neighbors=3)  0.652638  0.632653   \n",
       "\n",
       "     Recall  Precision  \n",
       "0  0.855072   0.819444  \n",
       "1  0.898551   0.826667  \n",
       "2  0.913043   0.818182  \n",
       "3  0.927536   0.820513  \n",
       "4  0.623188   0.605634  "
      ]
     },
     "execution_count": 120,
     "metadata": {},
     "output_type": "execute_result"
    }
   ],
   "source": [
    "from sklearn.metrics import precision_score, recall_score\n",
    "\n",
    "recall_score(y_test, lr.predict(X_test))\n",
    "data_performance = pd.DataFrame(columns=['Model Without Scaled Data', 'AUC-ROC', 'Accuracy', 'Recall', 'Precision'])\n",
    "\n",
    "models = [tree_clf, forest_clf, svm_clf, nb_classifier, neigh]\n",
    "\n",
    "for model in models:\n",
    "    auc = roc_auc_score(y_test, model.predict_proba(X_test)[:, 1])\n",
    "    accuracy = model.score(X_test, y_test)\n",
    "    recall = recall_score(y_test, model.predict(X_test))\n",
    "    precision = precision_score(y_test, model.predict(X_test))\n",
    "    \n",
    "    data_performance = data_performance.append({'Model Without Scaled Data':model, 'AUC-ROC':auc, 'Accuracy':accuracy,\n",
    "                                            'Recall':recall, 'Precision':precision}, ignore_index=True)\n",
    "    \n",
    "data_performance"
   ]
  },
  {
   "cell_type": "markdown",
   "id": "7e36cdcb",
   "metadata": {},
   "source": [
    "Logistic Regression With Scaled Data"
   ]
  },
  {
   "cell_type": "code",
   "execution_count": 121,
   "id": "909ea22f",
   "metadata": {},
   "outputs": [
    {
     "data": {
      "text/plain": [
       "LogisticRegressionCV(cv=5, random_state=99)"
      ]
     },
     "execution_count": 121,
     "metadata": {},
     "output_type": "execute_result"
    }
   ],
   "source": [
    "from sklearn.linear_model import LogisticRegressionCV\n",
    "\n",
    "lr = LogisticRegressionCV(cv=5, random_state=99)\n",
    "lr.fit(X_train_final, y_train)"
   ]
  },
  {
   "cell_type": "code",
   "execution_count": 122,
   "id": "5f08fead",
   "metadata": {},
   "outputs": [
    {
     "name": "stdout",
     "output_type": "stream",
     "text": [
      "Train AUC-ROC score is 0.9325713622650267\n",
      "Test AUC-ROC score is 0.9373838721664809\n"
     ]
    }
   ],
   "source": [
    "print('Train AUC-ROC score is', roc_auc_score(y_train, lr.predict_proba(X_train_final)[:, 1]))\n",
    "print('Test AUC-ROC score is', roc_auc_score(y_test, lr.predict_proba(X_test_final)[:, 1]))"
   ]
  },
  {
   "cell_type": "markdown",
   "id": "115d4c57",
   "metadata": {},
   "source": [
    "Decision Tree With Scaled Data"
   ]
  },
  {
   "cell_type": "code",
   "execution_count": 123,
   "id": "7ca08a27",
   "metadata": {},
   "outputs": [
    {
     "data": {
      "text/plain": [
       "GridSearchCV(cv=5, estimator=DecisionTreeClassifier(),\n",
       "             param_grid={'max_depth': [3, 5, 7],\n",
       "                         'min_samples_leaf': [5, 10, 15]})"
      ]
     },
     "execution_count": 123,
     "metadata": {},
     "output_type": "execute_result"
    }
   ],
   "source": [
    "from sklearn.tree import DecisionTreeClassifier\n",
    "from sklearn.model_selection import GridSearchCV\n",
    "\n",
    "tree = DecisionTreeClassifier()\n",
    "parameters = {'max_depth':[3,5,7], 'min_samples_leaf':[5,10,15]}\n",
    "\n",
    "tree_clf = GridSearchCV(tree, parameters, cv=5)\n",
    "tree_clf.fit(X_train_final, y_train)"
   ]
  },
  {
   "cell_type": "code",
   "execution_count": 124,
   "id": "a2231a73",
   "metadata": {},
   "outputs": [
    {
     "name": "stdout",
     "output_type": "stream",
     "text": [
      "Train AUC-ROC score is 0.9145393362729172\n",
      "Test AUC-ROC score is 0.910442214790041\n"
     ]
    }
   ],
   "source": [
    "print('Train AUC-ROC score is', roc_auc_score(y_train, tree_clf.predict_proba(X_train_final)[:, 1]))\n",
    "print('Test AUC-ROC score is', roc_auc_score(y_test, tree_clf.predict_proba(X_test_final)[:, 1]))"
   ]
  },
  {
   "cell_type": "markdown",
   "id": "0243389e",
   "metadata": {},
   "source": [
    "Random Forest With Scaled Data"
   ]
  },
  {
   "cell_type": "code",
   "execution_count": 125,
   "id": "44abbaa9",
   "metadata": {},
   "outputs": [
    {
     "data": {
      "text/plain": [
       "GridSearchCV(cv=5, estimator=RandomForestClassifier(),\n",
       "             param_grid={'max_depth': [3, 5, 7],\n",
       "                         'min_samples_leaf': [5, 10, 15]})"
      ]
     },
     "execution_count": 125,
     "metadata": {},
     "output_type": "execute_result"
    }
   ],
   "source": [
    "from sklearn.ensemble import RandomForestClassifier\n",
    "\n",
    "forest = RandomForestClassifier()\n",
    "parameters = {'max_depth':[3,5,7], 'min_samples_leaf':[5,10,15]}\n",
    "\n",
    "forest_clf = GridSearchCV(forest, parameters, cv=5)\n",
    "forest_clf.fit(X_train_final, y_train)"
   ]
  },
  {
   "cell_type": "code",
   "execution_count": 126,
   "id": "e4757f96",
   "metadata": {},
   "outputs": [
    {
     "name": "stdout",
     "output_type": "stream",
     "text": [
      "Train AUC-ROC score is 0.9543861684845673\n",
      "Test AUC-ROC score is 0.9427722036417688\n"
     ]
    }
   ],
   "source": [
    "print('Train AUC-ROC score is', roc_auc_score(y_train, forest_clf.predict_proba(X_train_final)[:, 1]))\n",
    "print('Test AUC-ROC score is', roc_auc_score(y_test, forest_clf.predict_proba(X_test_final)[:, 1]))"
   ]
  },
  {
   "cell_type": "markdown",
   "id": "15a4c4a0",
   "metadata": {},
   "source": [
    "Support Vector Machine (SVM) With Scaled Data"
   ]
  },
  {
   "cell_type": "code",
   "execution_count": 127,
   "id": "0386e0bd",
   "metadata": {},
   "outputs": [
    {
     "data": {
      "text/plain": [
       "GridSearchCV(cv=5, estimator=SVC(probability=True),\n",
       "             param_grid={'C': [0.01, 0.1, 0.5, 1, 1.5, 2, 5],\n",
       "                         'kernel': ['rbf', 'linear']})"
      ]
     },
     "execution_count": 127,
     "metadata": {},
     "output_type": "execute_result"
    }
   ],
   "source": [
    "from sklearn.svm import SVC\n",
    "\n",
    "svm_params = {'C':[0.01,0.1,0.5,1,1.5,2,5], 'kernel':['rbf', 'linear']}\n",
    "svm = SVC(probability=True)\n",
    "\n",
    "svm_clf = GridSearchCV(svm, svm_params, cv=5)\n",
    "svm_clf.fit(X_train_final, y_train)"
   ]
  },
  {
   "cell_type": "code",
   "execution_count": 128,
   "id": "58725593",
   "metadata": {},
   "outputs": [
    {
     "name": "stdout",
     "output_type": "stream",
     "text": [
      "Train AUC-ROC score is 0.9606637270828499\n",
      "Test AUC-ROC score is 0.9316239316239316\n"
     ]
    }
   ],
   "source": [
    "print('Train AUC-ROC score is', roc_auc_score(y_train, svm_clf.predict_proba(X_train_final)[:, 1]))\n",
    "print('Test AUC-ROC score is', roc_auc_score(y_test, svm_clf.predict_proba(X_test_final)[:, 1]))"
   ]
  },
  {
   "cell_type": "markdown",
   "id": "a000fc82",
   "metadata": {},
   "source": [
    "Naive Bayes With Scaled Data"
   ]
  },
  {
   "cell_type": "code",
   "execution_count": 129,
   "id": "6df5201d",
   "metadata": {},
   "outputs": [
    {
     "data": {
      "text/plain": [
       "GaussianNB()"
      ]
     },
     "execution_count": 129,
     "metadata": {},
     "output_type": "execute_result"
    }
   ],
   "source": [
    "from sklearn.naive_bayes import GaussianNB\n",
    "nb_classifier = GaussianNB()\n",
    "nb_classifier.fit(X_train_final, y_train)"
   ]
  },
  {
   "cell_type": "code",
   "execution_count": 130,
   "id": "ac45d4dc",
   "metadata": {},
   "outputs": [
    {
     "name": "stdout",
     "output_type": "stream",
     "text": [
      "Train AUC-ROC score is 0.9220468786261313\n",
      "Test AUC-ROC score is 0.9433296172426607\n"
     ]
    }
   ],
   "source": [
    "print('Train AUC-ROC score is', roc_auc_score(y_train, nb_classifier.predict_proba(X_train_final)[:, 1]))\n",
    "print('Test AUC-ROC score is', roc_auc_score(y_test, nb_classifier.predict_proba(X_test_final)[:, 1]))"
   ]
  },
  {
   "cell_type": "markdown",
   "id": "4e47367a",
   "metadata": {},
   "source": [
    "K-Nearest Neighbors With Scaled Data"
   ]
  },
  {
   "cell_type": "code",
   "execution_count": 131,
   "id": "898d0d85",
   "metadata": {},
   "outputs": [
    {
     "data": {
      "text/plain": [
       "KNeighborsClassifier(n_neighbors=3)"
      ]
     },
     "execution_count": 131,
     "metadata": {},
     "output_type": "execute_result"
    }
   ],
   "source": [
    " from sklearn.neighbors import KNeighborsClassifier\n",
    ">>> neigh = KNeighborsClassifier(n_neighbors=3)\n",
    ">>> neigh.fit(X_train_final, y_train)"
   ]
  },
  {
   "cell_type": "code",
   "execution_count": 132,
   "id": "ef950eec",
   "metadata": {},
   "outputs": [
    {
     "name": "stdout",
     "output_type": "stream",
     "text": [
      "Train AUC-ROC score is 0.9661522394987236\n",
      "Test AUC-ROC score is 0.9162021553325901\n"
     ]
    }
   ],
   "source": [
    "print('Train AUC-ROC score is', roc_auc_score(y_train, neigh.predict_proba(X_train_final)[:, 1]))\n",
    "print('Test AUC-ROC score is', roc_auc_score(y_test, neigh.predict_proba(X_test_final)[:, 1]))"
   ]
  },
  {
   "cell_type": "markdown",
   "id": "bd11f2cc",
   "metadata": {},
   "source": [
    "Models With Scaled Data Table"
   ]
  },
  {
   "cell_type": "code",
   "execution_count": 134,
   "id": "e391467f",
   "metadata": {},
   "outputs": [
    {
     "data": {
      "text/html": [
       "<div>\n",
       "<style scoped>\n",
       "    .dataframe tbody tr th:only-of-type {\n",
       "        vertical-align: middle;\n",
       "    }\n",
       "\n",
       "    .dataframe tbody tr th {\n",
       "        vertical-align: top;\n",
       "    }\n",
       "\n",
       "    .dataframe thead th {\n",
       "        text-align: right;\n",
       "    }\n",
       "</style>\n",
       "<table border=\"1\" class=\"dataframe\">\n",
       "  <thead>\n",
       "    <tr style=\"text-align: right;\">\n",
       "      <th></th>\n",
       "      <th>Model With Scaled Data</th>\n",
       "      <th>AUC-ROC</th>\n",
       "      <th>Accuracy</th>\n",
       "      <th>Recall</th>\n",
       "      <th>Precision</th>\n",
       "    </tr>\n",
       "  </thead>\n",
       "  <tbody>\n",
       "    <tr>\n",
       "      <th>0</th>\n",
       "      <td>LogisticRegressionCV(cv=5, random_state=99)</td>\n",
       "      <td>0.937384</td>\n",
       "      <td>0.870748</td>\n",
       "      <td>0.913043</td>\n",
       "      <td>0.828947</td>\n",
       "    </tr>\n",
       "    <tr>\n",
       "      <th>1</th>\n",
       "      <td>GridSearchCV(cv=5, estimator=DecisionTreeClass...</td>\n",
       "      <td>0.910442</td>\n",
       "      <td>0.843537</td>\n",
       "      <td>0.855072</td>\n",
       "      <td>0.819444</td>\n",
       "    </tr>\n",
       "    <tr>\n",
       "      <th>2</th>\n",
       "      <td>GridSearchCV(cv=5, estimator=RandomForestClass...</td>\n",
       "      <td>0.942772</td>\n",
       "      <td>0.857143</td>\n",
       "      <td>0.913043</td>\n",
       "      <td>0.807692</td>\n",
       "    </tr>\n",
       "    <tr>\n",
       "      <th>3</th>\n",
       "      <td>GridSearchCV(cv=5, estimator=SVC(probability=T...</td>\n",
       "      <td>0.931624</td>\n",
       "      <td>0.891156</td>\n",
       "      <td>0.927536</td>\n",
       "      <td>0.853333</td>\n",
       "    </tr>\n",
       "    <tr>\n",
       "      <th>4</th>\n",
       "      <td>GaussianNB()</td>\n",
       "      <td>0.943330</td>\n",
       "      <td>0.870748</td>\n",
       "      <td>0.927536</td>\n",
       "      <td>0.820513</td>\n",
       "    </tr>\n",
       "    <tr>\n",
       "      <th>5</th>\n",
       "      <td>KNeighborsClassifier(n_neighbors=3)</td>\n",
       "      <td>0.916202</td>\n",
       "      <td>0.877551</td>\n",
       "      <td>0.927536</td>\n",
       "      <td>0.831169</td>\n",
       "    </tr>\n",
       "  </tbody>\n",
       "</table>\n",
       "</div>"
      ],
      "text/plain": [
       "                              Model With Scaled Data   AUC-ROC  Accuracy  \\\n",
       "0        LogisticRegressionCV(cv=5, random_state=99)  0.937384  0.870748   \n",
       "1  GridSearchCV(cv=5, estimator=DecisionTreeClass...  0.910442  0.843537   \n",
       "2  GridSearchCV(cv=5, estimator=RandomForestClass...  0.942772  0.857143   \n",
       "3  GridSearchCV(cv=5, estimator=SVC(probability=T...  0.931624  0.891156   \n",
       "4                                       GaussianNB()  0.943330  0.870748   \n",
       "5                KNeighborsClassifier(n_neighbors=3)  0.916202  0.877551   \n",
       "\n",
       "     Recall  Precision  \n",
       "0  0.913043   0.828947  \n",
       "1  0.855072   0.819444  \n",
       "2  0.913043   0.807692  \n",
       "3  0.927536   0.853333  \n",
       "4  0.927536   0.820513  \n",
       "5  0.927536   0.831169  "
      ]
     },
     "execution_count": 134,
     "metadata": {},
     "output_type": "execute_result"
    }
   ],
   "source": [
    "from sklearn.metrics import precision_score, recall_score\n",
    "\n",
    "recall_score(y_test, lr.predict(X_test_final))\n",
    "data_performance = pd.DataFrame(columns=['Model With Scaled Data', 'AUC-ROC', 'Accuracy', 'Recall', 'Precision'])\n",
    "\n",
    "models = [lr, tree_clf, forest_clf, svm_clf, nb_classifier, neigh]\n",
    "\n",
    "for model in models:\n",
    "    auc = roc_auc_score(y_test, model.predict_proba(X_test_final)[:, 1])\n",
    "    accuracy = model.score(X_test_final, y_test)\n",
    "    recall = recall_score(y_test, model.predict(X_test_final))\n",
    "    precision = precision_score(y_test, model.predict(X_test_final))\n",
    "    \n",
    "    data_performance = data_performance.append({'Model With Scaled Data':model, 'AUC-ROC':auc, 'Accuracy':accuracy,\n",
    "                                            'Recall':recall, 'Precision':precision}, ignore_index=True)\n",
    "    \n",
    "data_performance"
   ]
  },
  {
   "cell_type": "code",
   "execution_count": null,
   "id": "bf224fbc",
   "metadata": {},
   "outputs": [],
   "source": []
  }
 ],
 "metadata": {
  "kernelspec": {
   "display_name": "Python 3 (ipykernel)",
   "language": "python",
   "name": "python3"
  },
  "language_info": {
   "codemirror_mode": {
    "name": "ipython",
    "version": 3
   },
   "file_extension": ".py",
   "mimetype": "text/x-python",
   "name": "python",
   "nbconvert_exporter": "python",
   "pygments_lexer": "ipython3",
   "version": "3.9.7"
  }
 },
 "nbformat": 4,
 "nbformat_minor": 5
}
